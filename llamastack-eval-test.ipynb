{
 "cells": [
  {
   "cell_type": "markdown",
   "id": "bdf471be",
   "metadata": {},
   "source": [
    "# Llamastack Eval"
   ]
  },
  {
   "cell_type": "markdown",
   "id": "b78b9758",
   "metadata": {},
   "source": [
    "We would like to be able to evaluate our models and applications before they go into production.  \n",
    "To do that we can use the llamastack eval endpoint.  \n",
    "It allows us to run prompts and expected answers through different evaluations to make sure that the model answers as we expect.  \n",
    "The prompts and expected answers can either be some you custom add, or it can be taken from an evaluation dataset such as this one from HuggingFace: https://huggingface.co/datasets/llamastack/simpleqa  \n",
    "\n",
    "We will be testing two types of evaluations here:\n",
    "- \"subset_of\" which tests if the LLM output is an exact subset of the expected answer \n",
    "- \"llm_as_judge\" which lets an LLM evaluate how similar the LLM output is to the expected answer\n",
    "\n",
    "In here we will primarily test the backend endpoints, so that we also evaluate how effective our system prompts are, but all of this can be applied to the raw model as well to see how performant it is. We will se an example of this in a later chapter ;)"
   ]
  },
  {
   "cell_type": "markdown",
   "id": "b9ef944b",
   "metadata": {},
   "source": [
    "## Set-up\n",
    "Let's start by installing the llamastack client and pointing it to our llamastack server"
   ]
  },
  {
   "cell_type": "code",
   "execution_count": 17,
   "id": "c5ba7f6d-9c21-411b-9446-7cd7b996564f",
   "metadata": {},
   "outputs": [
    {
     "name": "stdout",
     "output_type": "stream",
     "text": [
      "\n",
      "\u001b[1m[\u001b[0m\u001b[34;49mnotice\u001b[0m\u001b[1;39;49m]\u001b[0m\u001b[39;49m A new release of pip is available: \u001b[0m\u001b[31;49m24.2\u001b[0m\u001b[39;49m -> \u001b[0m\u001b[32;49m25.1.1\u001b[0m\n",
      "\u001b[1m[\u001b[0m\u001b[34;49mnotice\u001b[0m\u001b[1;39;49m]\u001b[0m\u001b[39;49m To update, run: \u001b[0m\u001b[32;49mpip install --upgrade pip\u001b[0m\n"
     ]
    }
   ],
   "source": [
    "!pip install -q git+https://github.com/meta-llama/llama-stack.git@release-0.2.12"
   ]
  },
  {
   "cell_type": "code",
   "execution_count": 19,
   "id": "dad4681f-cc69-481b-96ae-20805d9d3b48",
   "metadata": {},
   "outputs": [],
   "source": [
    "from llama_stack_client import LlamaStackClient\n",
    "base_url = \"http://llama-stack.user1-test.svc.cluster.local:80\"\n",
    "client = LlamaStackClient(\n",
    "    base_url=base_url,\n",
    "    timeout=600.0 # Default is 1 min which is far too little for some agentic tests, we set it to 10 min\n",
    ")"
   ]
  },
  {
   "cell_type": "markdown",
   "id": "d46e1492",
   "metadata": {},
   "source": [
    "# Llamastack Eval endpoint"
   ]
  },
  {
   "cell_type": "markdown",
   "id": "ec78c9c3",
   "metadata": {},
   "source": [
    "Before we evaluate our backend endpoint, let's just try out llamastack eval and see how it works.  \n",
    "Here we create some `handmade_eval_rows` with the input and the expected answer, but we also add the generated answer already filled out.  "
   ]
  },
  {
   "cell_type": "markdown",
   "id": "c94a9af7",
   "metadata": {},
   "source": [
    "## Subset Of"
   ]
  },
  {
   "cell_type": "markdown",
   "id": "bc8b469c-2242-4e44-ab20-ad46b220c828",
   "metadata": {},
   "source": [
    "Let's start by setting the `scoring_params` to use the `subset_of` function mentioned earlier and see what it comes back with."
   ]
  },
  {
   "cell_type": "code",
   "execution_count": 21,
   "id": "200fe9e1-b9ea-4b6d-b991-117531c870f7",
   "metadata": {},
   "outputs": [
    {
     "data": {
      "text/html": [
       "<pre style=\"white-space:pre;overflow-x:auto;line-height:normal;font-family:Menlo,'DejaVu Sans Mono',consolas,'Courier New',monospace\"><span style=\"font-weight: bold\">[</span>\n",
       "<span style=\"color: #7fbf7f; text-decoration-color: #7fbf7f\">│   </span><span style=\"font-weight: bold\">{</span>\n",
       "<span style=\"color: #7fbf7f; text-decoration-color: #7fbf7f\">│   │   </span><span style=\"color: #008000; text-decoration-color: #008000\">'input_query'</span>: <span style=\"color: #008000; text-decoration-color: #008000\">'What is your favorite food?'</span>,\n",
       "<span style=\"color: #7fbf7f; text-decoration-color: #7fbf7f\">│   │   </span><span style=\"color: #008000; text-decoration-color: #008000\">'generated_answer'</span>: <span style=\"color: #008000; text-decoration-color: #008000\">'Tapas are my favorites.'</span>,\n",
       "<span style=\"color: #7fbf7f; text-decoration-color: #7fbf7f\">│   │   </span><span style=\"color: #008000; text-decoration-color: #008000\">'expected_answer'</span>: <span style=\"color: #008000; text-decoration-color: #008000\">'Tapas'</span>\n",
       "<span style=\"color: #7fbf7f; text-decoration-color: #7fbf7f\">│   </span><span style=\"font-weight: bold\">}</span>,\n",
       "<span style=\"color: #7fbf7f; text-decoration-color: #7fbf7f\">│   </span><span style=\"font-weight: bold\">{</span>\n",
       "<span style=\"color: #7fbf7f; text-decoration-color: #7fbf7f\">│   │   </span><span style=\"color: #008000; text-decoration-color: #008000\">'input_query'</span>: <span style=\"color: #008000; text-decoration-color: #008000\">'What is your favorite food?'</span>,\n",
       "<span style=\"color: #7fbf7f; text-decoration-color: #7fbf7f\">│   │   </span><span style=\"color: #008000; text-decoration-color: #008000\">'generated_answer'</span>: <span style=\"color: #008000; text-decoration-color: #008000\">'I really like tapas.'</span>,\n",
       "<span style=\"color: #7fbf7f; text-decoration-color: #7fbf7f\">│   │   </span><span style=\"color: #008000; text-decoration-color: #008000\">'expected_answer'</span>: <span style=\"color: #008000; text-decoration-color: #008000\">'Tapas'</span>\n",
       "<span style=\"color: #7fbf7f; text-decoration-color: #7fbf7f\">│   </span><span style=\"font-weight: bold\">}</span>\n",
       "<span style=\"font-weight: bold\">]</span>\n",
       "</pre>\n"
      ],
      "text/plain": [
       "\u001b[1m[\u001b[0m\n",
       "\u001b[2;32m│   \u001b[0m\u001b[1m{\u001b[0m\n",
       "\u001b[2;32m│   │   \u001b[0m\u001b[32m'input_query'\u001b[0m: \u001b[32m'What is your favorite food?'\u001b[0m,\n",
       "\u001b[2;32m│   │   \u001b[0m\u001b[32m'generated_answer'\u001b[0m: \u001b[32m'Tapas are my favorites.'\u001b[0m,\n",
       "\u001b[2;32m│   │   \u001b[0m\u001b[32m'expected_answer'\u001b[0m: \u001b[32m'Tapas'\u001b[0m\n",
       "\u001b[2;32m│   \u001b[0m\u001b[1m}\u001b[0m,\n",
       "\u001b[2;32m│   \u001b[0m\u001b[1m{\u001b[0m\n",
       "\u001b[2;32m│   │   \u001b[0m\u001b[32m'input_query'\u001b[0m: \u001b[32m'What is your favorite food?'\u001b[0m,\n",
       "\u001b[2;32m│   │   \u001b[0m\u001b[32m'generated_answer'\u001b[0m: \u001b[32m'I really like tapas.'\u001b[0m,\n",
       "\u001b[2;32m│   │   \u001b[0m\u001b[32m'expected_answer'\u001b[0m: \u001b[32m'Tapas'\u001b[0m\n",
       "\u001b[2;32m│   \u001b[0m\u001b[1m}\u001b[0m\n",
       "\u001b[1m]\u001b[0m\n"
      ]
     },
     "metadata": {},
     "output_type": "display_data"
    },
    {
     "name": "stderr",
     "output_type": "stream",
     "text": [
      "INFO:httpx:HTTP Request: POST http://llama-stack.user1-test.svc.cluster.local/v1/scoring/score \"HTTP/1.1 200 OK\"\n"
     ]
    },
    {
     "data": {
      "text/html": [
       "<pre style=\"white-space:pre;overflow-x:auto;line-height:normal;font-family:Menlo,'DejaVu Sans Mono',consolas,'Courier New',monospace\"><span style=\"color: #800080; text-decoration-color: #800080; font-weight: bold\">ScoringScoreResponse</span><span style=\"font-weight: bold\">(</span>\n",
       "<span style=\"color: #7fbf7f; text-decoration-color: #7fbf7f\">│   </span><span style=\"color: #808000; text-decoration-color: #808000\">results</span>=<span style=\"font-weight: bold\">{</span>\n",
       "<span style=\"color: #7fbf7f; text-decoration-color: #7fbf7f\">│   │   </span><span style=\"color: #008000; text-decoration-color: #008000\">'basic::subset_of'</span>: <span style=\"color: #800080; text-decoration-color: #800080; font-weight: bold\">ScoringResult</span><span style=\"font-weight: bold\">(</span>\n",
       "<span style=\"color: #7fbf7f; text-decoration-color: #7fbf7f\">│   │   │   </span><span style=\"color: #808000; text-decoration-color: #808000\">aggregated_results</span>=<span style=\"font-weight: bold\">{</span><span style=\"color: #008000; text-decoration-color: #008000\">'accuracy'</span>: <span style=\"font-weight: bold\">{</span><span style=\"color: #008000; text-decoration-color: #008000\">'accuracy'</span>: <span style=\"color: #008080; text-decoration-color: #008080; font-weight: bold\">0.5</span>, <span style=\"color: #008000; text-decoration-color: #008000\">'num_correct'</span>: <span style=\"color: #008080; text-decoration-color: #008080; font-weight: bold\">1.0</span>, <span style=\"color: #008000; text-decoration-color: #008000\">'num_total'</span>: <span style=\"color: #008080; text-decoration-color: #008080; font-weight: bold\">2</span><span style=\"font-weight: bold\">}}</span>,\n",
       "<span style=\"color: #7fbf7f; text-decoration-color: #7fbf7f\">│   │   │   </span><span style=\"color: #808000; text-decoration-color: #808000\">score_rows</span>=<span style=\"font-weight: bold\">[{</span><span style=\"color: #008000; text-decoration-color: #008000\">'score'</span>: <span style=\"color: #008080; text-decoration-color: #008080; font-weight: bold\">1.0</span><span style=\"font-weight: bold\">}</span>, <span style=\"font-weight: bold\">{</span><span style=\"color: #008000; text-decoration-color: #008000\">'score'</span>: <span style=\"color: #008080; text-decoration-color: #008080; font-weight: bold\">0.0</span><span style=\"font-weight: bold\">}]</span>\n",
       "<span style=\"color: #7fbf7f; text-decoration-color: #7fbf7f\">│   │   </span><span style=\"font-weight: bold\">)</span>\n",
       "<span style=\"color: #7fbf7f; text-decoration-color: #7fbf7f\">│   </span><span style=\"font-weight: bold\">}</span>\n",
       "<span style=\"font-weight: bold\">)</span>\n",
       "</pre>\n"
      ],
      "text/plain": [
       "\u001b[1;35mScoringScoreResponse\u001b[0m\u001b[1m(\u001b[0m\n",
       "\u001b[2;32m│   \u001b[0m\u001b[33mresults\u001b[0m=\u001b[1m{\u001b[0m\n",
       "\u001b[2;32m│   │   \u001b[0m\u001b[32m'basic::subset_of'\u001b[0m: \u001b[1;35mScoringResult\u001b[0m\u001b[1m(\u001b[0m\n",
       "\u001b[2;32m│   │   │   \u001b[0m\u001b[33maggregated_results\u001b[0m=\u001b[1m{\u001b[0m\u001b[32m'accuracy'\u001b[0m: \u001b[1m{\u001b[0m\u001b[32m'accuracy'\u001b[0m: \u001b[1;36m0.5\u001b[0m, \u001b[32m'num_correct'\u001b[0m: \u001b[1;36m1.0\u001b[0m, \u001b[32m'num_total'\u001b[0m: \u001b[1;36m2\u001b[0m\u001b[1m}\u001b[0m\u001b[1m}\u001b[0m,\n",
       "\u001b[2;32m│   │   │   \u001b[0m\u001b[33mscore_rows\u001b[0m=\u001b[1m[\u001b[0m\u001b[1m{\u001b[0m\u001b[32m'score'\u001b[0m: \u001b[1;36m1.0\u001b[0m\u001b[1m}\u001b[0m, \u001b[1m{\u001b[0m\u001b[32m'score'\u001b[0m: \u001b[1;36m0.0\u001b[0m\u001b[1m}\u001b[0m\u001b[1m]\u001b[0m\n",
       "\u001b[2;32m│   │   \u001b[0m\u001b[1m)\u001b[0m\n",
       "\u001b[2;32m│   \u001b[0m\u001b[1m}\u001b[0m\n",
       "\u001b[1m)\u001b[0m\n"
      ]
     },
     "metadata": {},
     "output_type": "display_data"
    }
   ],
   "source": [
    "handmade_eval_rows = [\n",
    "    {\n",
    "        \"input_query\": \"What is your favorite food?\",\n",
    "        \"generated_answer\": \"Tapas are my favorites.\",\n",
    "        \"expected_answer\": \"Tapas\",\n",
    "    },\n",
    "    {\n",
    "        \"input_query\": \"What is your favorite food?\",\n",
    "        \"generated_answer\": \"I really like tapas.\",\n",
    "        \"expected_answer\": \"Tapas\",\n",
    "    }\n",
    "]\n",
    "pprint(handmade_eval_rows)\n",
    "\n",
    "scoring_params = {\n",
    "    \"basic::subset_of\": None,\n",
    "}\n",
    "scoring_response = client.scoring.score(\n",
    "    input_rows=handmade_eval_rows, scoring_functions=scoring_params\n",
    ")\n",
    "pprint(scoring_response)"
   ]
  },
  {
   "cell_type": "markdown",
   "id": "174c2599",
   "metadata": {},
   "source": [
    "Hmm, we got half of the answers correct 🤔  \n",
    "This is because we expect tapas to be spelled with a big T in front. As mentioned before, the subset_of function expects exact matches within the generated answer."
   ]
  },
  {
   "cell_type": "markdown",
   "id": "412e97f3-90b2-47c3-b2ef-49865cb6742b",
   "metadata": {},
   "source": [
    "## LLM as judge"
   ]
  },
  {
   "cell_type": "markdown",
   "id": "c25f3a1e",
   "metadata": {},
   "source": [
    "Now let's try the same thing but with LLM as judge.  \n",
    "Here we are going to feed our eval_rows into an LLM to evaluate how well the generated answer matches the expected answer.  \n",
    "To make sure that the judge LLM does this, we also provide it a `JUDGE_PROMPT` it should follow, as well as a regex of expected scores (`judge_score_regexes`) from the judge.  \n",
    "In our case we let it grade the generated answers from A to E (no F's in this class), each with its own meaning that you can see in the judge prompt.\n",
    "We also choose Llama 3.2 to be our judge. This means that when we later later evaluate replies from the backend, we will use the same LLM to generate our answer and judge them, essentially doing a self-judge strategy. This is not always the best, but works pretty well with Llama 3.2 and we don't have any other model to use right now."
   ]
  },
  {
   "cell_type": "code",
   "execution_count": 23,
   "id": "d830cced-784a-49e5-a780-fbffee2ed03d",
   "metadata": {},
   "outputs": [
    {
     "data": {
      "text/html": [
       "<pre style=\"white-space:pre;overflow-x:auto;line-height:normal;font-family:Menlo,'DejaVu Sans Mono',consolas,'Courier New',monospace\"><span style=\"font-weight: bold\">[</span>\n",
       "<span style=\"color: #7fbf7f; text-decoration-color: #7fbf7f\">│   </span><span style=\"font-weight: bold\">{</span>\n",
       "<span style=\"color: #7fbf7f; text-decoration-color: #7fbf7f\">│   │   </span><span style=\"color: #008000; text-decoration-color: #008000\">'input_query'</span>: <span style=\"color: #008000; text-decoration-color: #008000\">'What is your favorite food?'</span>,\n",
       "<span style=\"color: #7fbf7f; text-decoration-color: #7fbf7f\">│   │   </span><span style=\"color: #008000; text-decoration-color: #008000\">'generated_answer'</span>: <span style=\"color: #008000; text-decoration-color: #008000\">'Tapas are my favorites.'</span>,\n",
       "<span style=\"color: #7fbf7f; text-decoration-color: #7fbf7f\">│   │   </span><span style=\"color: #008000; text-decoration-color: #008000\">'expected_answer'</span>: <span style=\"color: #008000; text-decoration-color: #008000\">'Tapas'</span>\n",
       "<span style=\"color: #7fbf7f; text-decoration-color: #7fbf7f\">│   </span><span style=\"font-weight: bold\">}</span>,\n",
       "<span style=\"color: #7fbf7f; text-decoration-color: #7fbf7f\">│   </span><span style=\"font-weight: bold\">{</span>\n",
       "<span style=\"color: #7fbf7f; text-decoration-color: #7fbf7f\">│   │   </span><span style=\"color: #008000; text-decoration-color: #008000\">'input_query'</span>: <span style=\"color: #008000; text-decoration-color: #008000\">'What is your favorite food?'</span>,\n",
       "<span style=\"color: #7fbf7f; text-decoration-color: #7fbf7f\">│   │   </span><span style=\"color: #008000; text-decoration-color: #008000\">'generated_answer'</span>: <span style=\"color: #008000; text-decoration-color: #008000\">'I really like tapas.'</span>,\n",
       "<span style=\"color: #7fbf7f; text-decoration-color: #7fbf7f\">│   │   </span><span style=\"color: #008000; text-decoration-color: #008000\">'expected_answer'</span>: <span style=\"color: #008000; text-decoration-color: #008000\">'Tapas'</span>\n",
       "<span style=\"color: #7fbf7f; text-decoration-color: #7fbf7f\">│   </span><span style=\"font-weight: bold\">}</span>\n",
       "<span style=\"font-weight: bold\">]</span>\n",
       "</pre>\n"
      ],
      "text/plain": [
       "\u001b[1m[\u001b[0m\n",
       "\u001b[2;32m│   \u001b[0m\u001b[1m{\u001b[0m\n",
       "\u001b[2;32m│   │   \u001b[0m\u001b[32m'input_query'\u001b[0m: \u001b[32m'What is your favorite food?'\u001b[0m,\n",
       "\u001b[2;32m│   │   \u001b[0m\u001b[32m'generated_answer'\u001b[0m: \u001b[32m'Tapas are my favorites.'\u001b[0m,\n",
       "\u001b[2;32m│   │   \u001b[0m\u001b[32m'expected_answer'\u001b[0m: \u001b[32m'Tapas'\u001b[0m\n",
       "\u001b[2;32m│   \u001b[0m\u001b[1m}\u001b[0m,\n",
       "\u001b[2;32m│   \u001b[0m\u001b[1m{\u001b[0m\n",
       "\u001b[2;32m│   │   \u001b[0m\u001b[32m'input_query'\u001b[0m: \u001b[32m'What is your favorite food?'\u001b[0m,\n",
       "\u001b[2;32m│   │   \u001b[0m\u001b[32m'generated_answer'\u001b[0m: \u001b[32m'I really like tapas.'\u001b[0m,\n",
       "\u001b[2;32m│   │   \u001b[0m\u001b[32m'expected_answer'\u001b[0m: \u001b[32m'Tapas'\u001b[0m\n",
       "\u001b[2;32m│   \u001b[0m\u001b[1m}\u001b[0m\n",
       "\u001b[1m]\u001b[0m\n"
      ]
     },
     "metadata": {},
     "output_type": "display_data"
    },
    {
     "name": "stderr",
     "output_type": "stream",
     "text": [
      "INFO:httpx:HTTP Request: POST http://llama-stack.user1-test.svc.cluster.local/v1/scoring/score \"HTTP/1.1 200 OK\"\n"
     ]
    },
    {
     "data": {
      "text/html": [
       "<pre style=\"white-space:pre;overflow-x:auto;line-height:normal;font-family:Menlo,'DejaVu Sans Mono',consolas,'Courier New',monospace\"><span style=\"color: #800080; text-decoration-color: #800080; font-weight: bold\">ScoringScoreResponse</span><span style=\"font-weight: bold\">(</span>\n",
       "<span style=\"color: #7fbf7f; text-decoration-color: #7fbf7f\">│   </span><span style=\"color: #808000; text-decoration-color: #808000\">results</span>=<span style=\"font-weight: bold\">{</span>\n",
       "<span style=\"color: #7fbf7f; text-decoration-color: #7fbf7f\">│   │   </span><span style=\"color: #008000; text-decoration-color: #008000\">'llm-as-judge::base'</span>: <span style=\"color: #800080; text-decoration-color: #800080; font-weight: bold\">ScoringResult</span><span style=\"font-weight: bold\">(</span>\n",
       "<span style=\"color: #7fbf7f; text-decoration-color: #7fbf7f\">│   │   │   </span><span style=\"color: #808000; text-decoration-color: #808000\">aggregated_results</span>=<span style=\"font-weight: bold\">{}</span>,\n",
       "<span style=\"color: #7fbf7f; text-decoration-color: #7fbf7f\">│   │   │   </span><span style=\"color: #808000; text-decoration-color: #808000\">score_rows</span>=<span style=\"font-weight: bold\">[</span>\n",
       "<span style=\"color: #7fbf7f; text-decoration-color: #7fbf7f\">│   │   │   │   </span><span style=\"font-weight: bold\">{</span>\n",
       "<span style=\"color: #7fbf7f; text-decoration-color: #7fbf7f\">│   │   │   │   │   </span><span style=\"color: #008000; text-decoration-color: #008000\">'score'</span>: <span style=\"color: #008000; text-decoration-color: #008000\">'C'</span>,\n",
       "<span style=\"color: #7fbf7f; text-decoration-color: #7fbf7f\">│   │   │   │   │   </span><span style=\"color: #008000; text-decoration-color: #008000\">'judge_feedback'</span>: <span style=\"color: #008000; text-decoration-color: #008000\">'Answer: C, Explanation: The GENERATED_RESPONSE contains all the same details as the EXPECTED_RESPONSE.'</span>\n",
       "<span style=\"color: #7fbf7f; text-decoration-color: #7fbf7f\">│   │   │   │   </span><span style=\"font-weight: bold\">}</span>,\n",
       "<span style=\"color: #7fbf7f; text-decoration-color: #7fbf7f\">│   │   │   │   </span><span style=\"font-weight: bold\">{</span>\n",
       "<span style=\"color: #7fbf7f; text-decoration-color: #7fbf7f\">│   │   │   │   │   </span><span style=\"color: #008000; text-decoration-color: #008000\">'score'</span>: <span style=\"color: #008000; text-decoration-color: #008000\">'C'</span>,\n",
       "<span style=\"color: #7fbf7f; text-decoration-color: #7fbf7f\">│   │   │   │   │   </span><span style=\"color: #008000; text-decoration-color: #008000\">'judge_feedback'</span>: <span style=\"color: #008000; text-decoration-color: #008000\">'Answer: C, Explanation: The GENERATED_RESPONSE contains all the same details as the EXPECTED_RESPONSE.'</span>\n",
       "<span style=\"color: #7fbf7f; text-decoration-color: #7fbf7f\">│   │   │   │   </span><span style=\"font-weight: bold\">}</span>\n",
       "<span style=\"color: #7fbf7f; text-decoration-color: #7fbf7f\">│   │   │   </span><span style=\"font-weight: bold\">]</span>\n",
       "<span style=\"color: #7fbf7f; text-decoration-color: #7fbf7f\">│   │   </span><span style=\"font-weight: bold\">)</span>\n",
       "<span style=\"color: #7fbf7f; text-decoration-color: #7fbf7f\">│   </span><span style=\"font-weight: bold\">}</span>\n",
       "<span style=\"font-weight: bold\">)</span>\n",
       "</pre>\n"
      ],
      "text/plain": [
       "\u001b[1;35mScoringScoreResponse\u001b[0m\u001b[1m(\u001b[0m\n",
       "\u001b[2;32m│   \u001b[0m\u001b[33mresults\u001b[0m=\u001b[1m{\u001b[0m\n",
       "\u001b[2;32m│   │   \u001b[0m\u001b[32m'llm-as-judge::base'\u001b[0m: \u001b[1;35mScoringResult\u001b[0m\u001b[1m(\u001b[0m\n",
       "\u001b[2;32m│   │   │   \u001b[0m\u001b[33maggregated_results\u001b[0m=\u001b[1m{\u001b[0m\u001b[1m}\u001b[0m,\n",
       "\u001b[2;32m│   │   │   \u001b[0m\u001b[33mscore_rows\u001b[0m=\u001b[1m[\u001b[0m\n",
       "\u001b[2;32m│   │   │   │   \u001b[0m\u001b[1m{\u001b[0m\n",
       "\u001b[2;32m│   │   │   │   │   \u001b[0m\u001b[32m'score'\u001b[0m: \u001b[32m'C'\u001b[0m,\n",
       "\u001b[2;32m│   │   │   │   │   \u001b[0m\u001b[32m'judge_feedback'\u001b[0m: \u001b[32m'Answer: C, Explanation: The GENERATED_RESPONSE contains all the same details as the EXPECTED_RESPONSE.'\u001b[0m\n",
       "\u001b[2;32m│   │   │   │   \u001b[0m\u001b[1m}\u001b[0m,\n",
       "\u001b[2;32m│   │   │   │   \u001b[0m\u001b[1m{\u001b[0m\n",
       "\u001b[2;32m│   │   │   │   │   \u001b[0m\u001b[32m'score'\u001b[0m: \u001b[32m'C'\u001b[0m,\n",
       "\u001b[2;32m│   │   │   │   │   \u001b[0m\u001b[32m'judge_feedback'\u001b[0m: \u001b[32m'Answer: C, Explanation: The GENERATED_RESPONSE contains all the same details as the EXPECTED_RESPONSE.'\u001b[0m\n",
       "\u001b[2;32m│   │   │   │   \u001b[0m\u001b[1m}\u001b[0m\n",
       "\u001b[2;32m│   │   │   \u001b[0m\u001b[1m]\u001b[0m\n",
       "\u001b[2;32m│   │   \u001b[0m\u001b[1m)\u001b[0m\n",
       "\u001b[2;32m│   \u001b[0m\u001b[1m}\u001b[0m\n",
       "\u001b[1m)\u001b[0m\n"
      ]
     },
     "metadata": {},
     "output_type": "display_data"
    }
   ],
   "source": [
    "handmade_eval_rows = [\n",
    "    {\n",
    "        \"input_query\": \"What is your favorite food?\",\n",
    "        \"generated_answer\": \"Tapas are my favorites.\",\n",
    "        \"expected_answer\": \"Tapas\",\n",
    "    },\n",
    "    {\n",
    "        \"input_query\": \"What is your favorite food?\",\n",
    "        \"generated_answer\": \"I really like tapas.\",\n",
    "        \"expected_answer\": \"Tapas\",\n",
    "    }\n",
    "]\n",
    "pprint(handmade_eval_rows)\n",
    "\n",
    "judge_model_id = \"llama32\"\n",
    "JUDGE_PROMPT = \"\"\"\n",
    "Given a QUESTION and GENERATED_RESPONSE and EXPECTED_RESPONSE.\n",
    "\n",
    "Compare the factual content of the GENERATED_RESPONSE with the EXPECTED_RESPONSE. Ignore any differences in style, grammar, or punctuation.\n",
    "  The GENERATED_RESPONSE may either be a subset or superset of the EXPECTED_RESPONSE, or it may conflict with it. Determine which case applies. Answer the question by selecting one of the following options:\n",
    "  (A) The GENERATED_RESPONSE is a subset of the EXPECTED_RESPONSE and is fully consistent with it.\n",
    "  (B) The GENERATED_RESPONSE is a superset of the EXPECTED_RESPONSE and is fully consistent with it.\n",
    "  (C) The GENERATED_RESPONSE contains all the same details as the EXPECTED_RESPONSE.\n",
    "  (D) There is a disagreement between the GENERATED_RESPONSE and the EXPECTED_RESPONSE.\n",
    "  (E) The answers differ, but these differences don't matter from the perspective of factuality.\n",
    "\n",
    "Give your answer in the format \"Answer: One of ABCDE, Explanation: \".\n",
    "\n",
    "Your actual task:\n",
    "\n",
    "QUESTION: {input_query}\n",
    "GENERATED_RESPONSE: {generated_answer}\n",
    "EXPECTED_RESPONSE: {expected_answer}\n",
    "\"\"\"\n",
    "\n",
    "scoring_params = {\n",
    "    \"llm-as-judge::base\": {\n",
    "        \"judge_model\": judge_model_id,\n",
    "        \"prompt_template\": JUDGE_PROMPT,\n",
    "        \"type\": \"llm_as_judge\",\n",
    "        \"judge_score_regexes\": [\"Answer: (A|B|C|D|E)\"],\n",
    "    },\n",
    "}\n",
    "\n",
    "scoring_response = client.scoring.score(\n",
    "    input_rows=handmade_eval_rows, scoring_functions=scoring_params\n",
    ")\n",
    "pprint(scoring_response)"
   ]
  },
  {
   "cell_type": "markdown",
   "id": "360d4cbd",
   "metadata": {},
   "source": [
    "You should have gotten at least a C from the judge, and you can see the reasoning for it in the `judge_feedback` field.  \n",
    "Feel free to try out some other inputs, generated answers, and expected answers 🧪"
   ]
  },
  {
   "cell_type": "markdown",
   "id": "64c65b29",
   "metadata": {},
   "source": [
    "# Involve the LLM"
   ]
  },
  {
   "cell_type": "markdown",
   "id": "e874d58c",
   "metadata": {},
   "source": [
    "So far we have just hardcoded the generated answers but these should be generated from an LLM, otherwise we are just evaluating ourselves.  \n",
    "To do this, let's send some requests to our LLM through llamastack, and then also to our backend and see how that looks like."
   ]
  },
  {
   "cell_type": "code",
   "execution_count": null,
   "id": "da1a3396",
   "metadata": {},
   "outputs": [],
   "source": []
  },
  {
   "cell_type": "markdown",
   "id": "d78602af",
   "metadata": {},
   "source": [
    "# Datasets"
   ]
  },
  {
   "cell_type": "markdown",
   "id": "370a44f0",
   "metadata": {},
   "source": [
    "Finally, let's use a dataset with already populated inputs and expected answers and see how well our model and backend does against those."
   ]
  },
  {
   "cell_type": "code",
   "execution_count": null,
   "id": "6a23c29c",
   "metadata": {},
   "outputs": [],
   "source": []
  },
  {
   "cell_type": "markdown",
   "id": "c40aa068-836d-4ce7-b687-ae0d8aaf7ef7",
   "metadata": {},
   "source": [
    "## SimpleQA"
   ]
  },
  {
   "cell_type": "code",
   "execution_count": 24,
   "id": "cdea22fe-3ce5-42e1-a6c1-e80b574309e5",
   "metadata": {},
   "outputs": [
    {
     "name": "stderr",
     "output_type": "stream",
     "text": [
      "INFO:httpx:HTTP Request: POST http://llama-stack.user1-test.svc.cluster.local/v1/datasets \"HTTP/1.1 200 OK\"\n"
     ]
    },
    {
     "name": "stderr",
     "output_type": "stream",
     "text": [
      "INFO:httpx:HTTP Request: GET http://llama-stack.user1-test.svc.cluster.local/v1/datasetio/iterrows/huggingface::simpleqa?limit=5 \"HTTP/1.1 200 OK\"\n"
     ]
    }
   ],
   "source": [
    "simpleqa_dataset_id = \"huggingface::simpleqa\"\n",
    "\n",
    "_ = client.datasets.register(\n",
    "    purpose=\"eval/messages-answer\",\n",
    "    source={\n",
    "        \"type\": \"uri\",\n",
    "        \"uri\": \"huggingface://datasets/llamastack/simpleqa?split=train\",\n",
    "    },\n",
    "    dataset_id=simpleqa_dataset_id,\n",
    ")\n",
    "\n",
    "eval_rows = client.datasets.iterrows(\n",
    "    dataset_id=simpleqa_dataset_id,\n",
    "    limit=5,\n",
    ")"
   ]
  },
  {
   "cell_type": "code",
   "execution_count": 93,
   "id": "0e9e5a99-3bf4-4fe5-8576-3d04ca91b7ad",
   "metadata": {},
   "outputs": [
    {
     "data": {
      "text/html": [
       "<pre style=\"white-space:pre;overflow-x:auto;line-height:normal;font-family:Menlo,'DejaVu Sans Mono',consolas,'Courier New',monospace\"><span style=\"color: #800080; text-decoration-color: #800080; font-weight: bold\">DatasetIterrowsResponse</span><span style=\"font-weight: bold\">(</span>\n",
       "<span style=\"color: #7fbf7f; text-decoration-color: #7fbf7f\">│   </span><span style=\"color: #808000; text-decoration-color: #808000\">data</span>=<span style=\"font-weight: bold\">[</span>\n",
       "<span style=\"color: #7fbf7f; text-decoration-color: #7fbf7f\">│   │   </span><span style=\"font-weight: bold\">{</span>\n",
       "<span style=\"color: #7fbf7f; text-decoration-color: #7fbf7f\">│   │   │   </span><span style=\"color: #008000; text-decoration-color: #008000\">'metadata'</span>: <span style=\"color: #008000; text-decoration-color: #008000\">\"{'topic': 'Science and technology', 'answer_type': 'Person', 'urls': ['https://en.wikipedia.org/wiki/IEEE_Frank_Rosenblatt_Award', 'https://ieeexplore.ieee.org/author/37271220500', 'https://en.wikipedia.org/wiki/IEEE_Frank_Rosenblatt_Award', 'https://www.nxtbook.com/nxtbooks/ieee/awards_2010/index.php?startid=21#/p/20']}\"</span>,\n",
       "<span style=\"color: #7fbf7f; text-decoration-color: #7fbf7f\">│   │   │   </span><span style=\"color: #008000; text-decoration-color: #008000\">'input_query'</span>: <span style=\"color: #008000; text-decoration-color: #008000\">'Who received the IEEE Frank Rosenblatt Award in 2010?'</span>,\n",
       "<span style=\"color: #7fbf7f; text-decoration-color: #7fbf7f\">│   │   │   </span><span style=\"color: #008000; text-decoration-color: #008000\">'expected_answer'</span>: <span style=\"color: #008000; text-decoration-color: #008000\">'Michio Sugeno'</span>,\n",
       "<span style=\"color: #7fbf7f; text-decoration-color: #7fbf7f\">│   │   │   </span><span style=\"color: #008000; text-decoration-color: #008000\">'chat_completion_input'</span>: <span style=\"color: #008000; text-decoration-color: #008000\">'[{\"role\": \"user\", \"content\": \"Who received the IEEE Frank Rosenblatt Award in 2010?\"}]'</span>\n",
       "<span style=\"color: #7fbf7f; text-decoration-color: #7fbf7f\">│   │   </span><span style=\"font-weight: bold\">}</span>,\n",
       "<span style=\"color: #7fbf7f; text-decoration-color: #7fbf7f\">│   │   </span><span style=\"font-weight: bold\">{</span>\n",
       "<span style=\"color: #7fbf7f; text-decoration-color: #7fbf7f\">│   │   │   </span><span style=\"color: #008000; text-decoration-color: #008000\">'metadata'</span>: <span style=\"color: #008000; text-decoration-color: #008000\">\"{'topic': 'Science and technology', 'answer_type': 'Person', 'urls': ['https://en.wikipedia.org/wiki/The_Oceanography_Society', 'https://en.wikipedia.org/wiki/The_Oceanography_Society', 'https://tos.org/jerlov-medal', 'https://www.eurekalert.org/news-releases/490504']}\"</span>,\n",
       "<span style=\"color: #7fbf7f; text-decoration-color: #7fbf7f\">│   │   │   </span><span style=\"color: #008000; text-decoration-color: #008000\">'input_query'</span>: <span style=\"color: #008000; text-decoration-color: #008000\">\"Who was awarded the Oceanography Society's Jerlov Award in 2018?\"</span>,\n",
       "<span style=\"color: #7fbf7f; text-decoration-color: #7fbf7f\">│   │   │   </span><span style=\"color: #008000; text-decoration-color: #008000\">'expected_answer'</span>: <span style=\"color: #008000; text-decoration-color: #008000\">'Annick Bricaud'</span>,\n",
       "<span style=\"color: #7fbf7f; text-decoration-color: #7fbf7f\">│   │   │   </span><span style=\"color: #008000; text-decoration-color: #008000\">'chat_completion_input'</span>: <span style=\"color: #008000; text-decoration-color: #008000\">'[{\"role\": \"user\", \"content\": \"Who was awarded the Oceanography Society\\'s Jerlov Award in 2018?\"}]'</span>\n",
       "<span style=\"color: #7fbf7f; text-decoration-color: #7fbf7f\">│   │   </span><span style=\"font-weight: bold\">}</span>,\n",
       "<span style=\"color: #7fbf7f; text-decoration-color: #7fbf7f\">│   │   </span><span style=\"font-weight: bold\">{</span>\n",
       "<span style=\"color: #7fbf7f; text-decoration-color: #7fbf7f\">│   │   │   </span><span style=\"color: #008000; text-decoration-color: #008000\">'metadata'</span>: <span style=\"color: #008000; text-decoration-color: #008000\">\"{'topic': 'Geography', 'answer_type': 'Place', 'urls': ['https://en.wikipedia.org/wiki/Radcliffe_College', 'https://en.wikipedia.org/wiki/Radcliffe_College', 'https://www.braingainmag.com/7-historic-liberal-arts-colleges-in-the-us.htm', 'https://thepeoplesarchive.dclibrary.org/repositories/2/resources/2228']}\"</span>,\n",
       "<span style=\"color: #7fbf7f; text-decoration-color: #7fbf7f\">│   │   │   </span><span style=\"color: #008000; text-decoration-color: #008000\">'input_query'</span>: <span style=\"color: #008000; text-decoration-color: #008000\">\"What's the name of the women's liberal arts college in Cambridge, Massachusetts?\"</span>,\n",
       "<span style=\"color: #7fbf7f; text-decoration-color: #7fbf7f\">│   │   │   </span><span style=\"color: #008000; text-decoration-color: #008000\">'expected_answer'</span>: <span style=\"color: #008000; text-decoration-color: #008000\">'Radcliffe College'</span>,\n",
       "<span style=\"color: #7fbf7f; text-decoration-color: #7fbf7f\">│   │   │   </span><span style=\"color: #008000; text-decoration-color: #008000\">'chat_completion_input'</span>: <span style=\"color: #008000; text-decoration-color: #008000\">'[{\"role\": \"user\", \"content\": \"What\\'s the name of the women\\'s liberal arts college in Cambridge, Massachusetts?\"}]'</span>\n",
       "<span style=\"color: #7fbf7f; text-decoration-color: #7fbf7f\">│   │   </span><span style=\"font-weight: bold\">}</span>,\n",
       "<span style=\"color: #7fbf7f; text-decoration-color: #7fbf7f\">│   │   </span><span style=\"font-weight: bold\">{</span>\n",
       "<span style=\"color: #7fbf7f; text-decoration-color: #7fbf7f\">│   │   │   </span><span style=\"color: #008000; text-decoration-color: #008000\">'metadata'</span>: <span style=\"color: #008000; text-decoration-color: #008000\">\"{'topic': 'Sports', 'answer_type': 'Person', 'urls': ['https://en.wikipedia.org/wiki/Adolf_Anderssen', 'https://www.chessgames.com/perl/chess.pl?tid=79429', 'https://en.wikipedia.org/wiki/Adolf_Anderssen']}\"</span>,\n",
       "<span style=\"color: #7fbf7f; text-decoration-color: #7fbf7f\">│   │   │   </span><span style=\"color: #008000; text-decoration-color: #008000\">'input_query'</span>: <span style=\"color: #008000; text-decoration-color: #008000\">'In whose honor was the Leipzig 1877 tournament organized?'</span>,\n",
       "<span style=\"color: #7fbf7f; text-decoration-color: #7fbf7f\">│   │   │   </span><span style=\"color: #008000; text-decoration-color: #008000\">'expected_answer'</span>: <span style=\"color: #008000; text-decoration-color: #008000\">'Adolf Anderssen'</span>,\n",
       "<span style=\"color: #7fbf7f; text-decoration-color: #7fbf7f\">│   │   │   </span><span style=\"color: #008000; text-decoration-color: #008000\">'chat_completion_input'</span>: <span style=\"color: #008000; text-decoration-color: #008000\">'[{\"role\": \"user\", \"content\": \"In whose honor was the Leipzig 1877 tournament organized?\"}]'</span>\n",
       "<span style=\"color: #7fbf7f; text-decoration-color: #7fbf7f\">│   │   </span><span style=\"font-weight: bold\">}</span>,\n",
       "<span style=\"color: #7fbf7f; text-decoration-color: #7fbf7f\">│   │   </span><span style=\"font-weight: bold\">{</span>\n",
       "<span style=\"color: #7fbf7f; text-decoration-color: #7fbf7f\">│   │   │   </span><span style=\"color: #008000; text-decoration-color: #008000\">'metadata'</span>: <span style=\"color: #008000; text-decoration-color: #008000\">\"{'topic': 'Art', 'answer_type': 'Person', 'urls': ['https://www.gutenberg.org/files/60408/60408-h/60408-h.htm\\\\nhttps://en.wikipedia.org/wiki/Achilleion_(Corfu)', 'https://www.gutenberg.org/cache/epub/60408/pg60408-images.html', 'https://archive.org/stream/elizabethempres01burggoog/elizabethempres01burggoog_djvu.txt', 'https://www.habsburger.net/en/chapter/achilleion-corfu-elisabeths-flight-antiquity']}\"</span>,\n",
       "<span style=\"color: #7fbf7f; text-decoration-color: #7fbf7f\">│   │   │   </span><span style=\"color: #008000; text-decoration-color: #008000\">'input_query'</span>: <span style=\"color: #008000; text-decoration-color: #008000\">\"According to Karl Küchler, what did Empress Elizabeth of Austria's favorite sculpture depict, which was made for her villa Achilleion at Corfu?\"</span>,\n",
       "<span style=\"color: #7fbf7f; text-decoration-color: #7fbf7f\">│   │   │   </span><span style=\"color: #008000; text-decoration-color: #008000\">'expected_answer'</span>: <span style=\"color: #008000; text-decoration-color: #008000\">'Poet Henrich Heine.'</span>,\n",
       "<span style=\"color: #7fbf7f; text-decoration-color: #7fbf7f\">│   │   │   </span><span style=\"color: #008000; text-decoration-color: #008000\">'chat_completion_input'</span>: <span style=\"color: #008000; text-decoration-color: #008000\">'[{\"role\": \"user\", \"content\": \"According to Karl K\\\\u00fcchler, what did Empress Elizabeth of Austria\\'s favorite sculpture depict, which was made for her villa Achilleion at Corfu?\"}]'</span>\n",
       "<span style=\"color: #7fbf7f; text-decoration-color: #7fbf7f\">│   │   </span><span style=\"font-weight: bold\">}</span>\n",
       "<span style=\"color: #7fbf7f; text-decoration-color: #7fbf7f\">│   </span><span style=\"font-weight: bold\">]</span>,\n",
       "<span style=\"color: #7fbf7f; text-decoration-color: #7fbf7f\">│   </span><span style=\"color: #808000; text-decoration-color: #808000\">has_more</span>=<span style=\"color: #00ff00; text-decoration-color: #00ff00; font-style: italic\">True</span>,\n",
       "<span style=\"color: #7fbf7f; text-decoration-color: #7fbf7f\">│   </span><span style=\"color: #808000; text-decoration-color: #808000\">url</span>=<span style=\"color: #008000; text-decoration-color: #008000\">'/v1/datasetio/iterrows/{dataset_id:path}'</span>\n",
       "<span style=\"font-weight: bold\">)</span>\n",
       "</pre>\n"
      ],
      "text/plain": [
       "\u001b[1;35mDatasetIterrowsResponse\u001b[0m\u001b[1m(\u001b[0m\n",
       "\u001b[2;32m│   \u001b[0m\u001b[33mdata\u001b[0m=\u001b[1m[\u001b[0m\n",
       "\u001b[2;32m│   │   \u001b[0m\u001b[1m{\u001b[0m\n",
       "\u001b[2;32m│   │   │   \u001b[0m\u001b[32m'metadata'\u001b[0m: \u001b[32m\"\u001b[0m\u001b[32m{\u001b[0m\u001b[32m'topic': 'Science and technology', 'answer_type': 'Person', 'urls': \u001b[0m\u001b[32m[\u001b[0m\u001b[32m'https://en.wikipedia.org/wiki/IEEE_Frank_Rosenblatt_Award', 'https://ieeexplore.ieee.org/author/37271220500', 'https://en.wikipedia.org/wiki/IEEE_Frank_Rosenblatt_Award', 'https://www.nxtbook.com/nxtbooks/ieee/awards_2010/index.php?\u001b[0m\u001b[32mstartid\u001b[0m\u001b[32m=\u001b[0m\u001b[32m21\u001b[0m\u001b[32m#/p/20'\u001b[0m\u001b[32m]\u001b[0m\u001b[32m}\u001b[0m\u001b[32m\"\u001b[0m,\n",
       "\u001b[2;32m│   │   │   \u001b[0m\u001b[32m'input_query'\u001b[0m: \u001b[32m'Who received the IEEE Frank Rosenblatt Award in 2010?'\u001b[0m,\n",
       "\u001b[2;32m│   │   │   \u001b[0m\u001b[32m'expected_answer'\u001b[0m: \u001b[32m'Michio Sugeno'\u001b[0m,\n",
       "\u001b[2;32m│   │   │   \u001b[0m\u001b[32m'chat_completion_input'\u001b[0m: \u001b[32m'\u001b[0m\u001b[32m[\u001b[0m\u001b[32m{\u001b[0m\u001b[32m\"role\": \"user\", \"content\": \"Who received the IEEE Frank Rosenblatt Award in 2010?\"\u001b[0m\u001b[32m}\u001b[0m\u001b[32m]\u001b[0m\u001b[32m'\u001b[0m\n",
       "\u001b[2;32m│   │   \u001b[0m\u001b[1m}\u001b[0m,\n",
       "\u001b[2;32m│   │   \u001b[0m\u001b[1m{\u001b[0m\n",
       "\u001b[2;32m│   │   │   \u001b[0m\u001b[32m'metadata'\u001b[0m: \u001b[32m\"\u001b[0m\u001b[32m{\u001b[0m\u001b[32m'topic': 'Science and technology', 'answer_type': 'Person', 'urls': \u001b[0m\u001b[32m[\u001b[0m\u001b[32m'https://en.wikipedia.org/wiki/The_Oceanography_Society', 'https://en.wikipedia.org/wiki/The_Oceanography_Society', 'https://tos.org/jerlov-medal', 'https://www.eurekalert.org/news-releases/490504'\u001b[0m\u001b[32m]\u001b[0m\u001b[32m}\u001b[0m\u001b[32m\"\u001b[0m,\n",
       "\u001b[2;32m│   │   │   \u001b[0m\u001b[32m'input_query'\u001b[0m: \u001b[32m\"Who was awarded the Oceanography Society's Jerlov Award in 2018?\"\u001b[0m,\n",
       "\u001b[2;32m│   │   │   \u001b[0m\u001b[32m'expected_answer'\u001b[0m: \u001b[32m'Annick Bricaud'\u001b[0m,\n",
       "\u001b[2;32m│   │   │   \u001b[0m\u001b[32m'chat_completion_input'\u001b[0m: \u001b[32m'\u001b[0m\u001b[32m[\u001b[0m\u001b[32m{\u001b[0m\u001b[32m\"role\": \"user\", \"content\": \"Who was awarded the Oceanography Society\\'s Jerlov Award in 2018?\"\u001b[0m\u001b[32m}\u001b[0m\u001b[32m]\u001b[0m\u001b[32m'\u001b[0m\n",
       "\u001b[2;32m│   │   \u001b[0m\u001b[1m}\u001b[0m,\n",
       "\u001b[2;32m│   │   \u001b[0m\u001b[1m{\u001b[0m\n",
       "\u001b[2;32m│   │   │   \u001b[0m\u001b[32m'metadata'\u001b[0m: \u001b[32m\"\u001b[0m\u001b[32m{\u001b[0m\u001b[32m'topic': 'Geography', 'answer_type': 'Place', 'urls': \u001b[0m\u001b[32m[\u001b[0m\u001b[32m'https://en.wikipedia.org/wiki/Radcliffe_College', 'https://en.wikipedia.org/wiki/Radcliffe_College', 'https://www.braingainmag.com/7-historic-liberal-arts-colleges-in-the-us.htm', 'https://thepeoplesarchive.dclibrary.org/repositories/2/resources/2228'\u001b[0m\u001b[32m]\u001b[0m\u001b[32m}\u001b[0m\u001b[32m\"\u001b[0m,\n",
       "\u001b[2;32m│   │   │   \u001b[0m\u001b[32m'input_query'\u001b[0m: \u001b[32m\"What's the name of the women's liberal arts college in Cambridge, Massachusetts?\"\u001b[0m,\n",
       "\u001b[2;32m│   │   │   \u001b[0m\u001b[32m'expected_answer'\u001b[0m: \u001b[32m'Radcliffe College'\u001b[0m,\n",
       "\u001b[2;32m│   │   │   \u001b[0m\u001b[32m'chat_completion_input'\u001b[0m: \u001b[32m'\u001b[0m\u001b[32m[\u001b[0m\u001b[32m{\u001b[0m\u001b[32m\"role\": \"user\", \"content\": \"What\\'s the name of the women\\'s liberal arts college in Cambridge, Massachusetts?\"\u001b[0m\u001b[32m}\u001b[0m\u001b[32m]\u001b[0m\u001b[32m'\u001b[0m\n",
       "\u001b[2;32m│   │   \u001b[0m\u001b[1m}\u001b[0m,\n",
       "\u001b[2;32m│   │   \u001b[0m\u001b[1m{\u001b[0m\n",
       "\u001b[2;32m│   │   │   \u001b[0m\u001b[32m'metadata'\u001b[0m: \u001b[32m\"\u001b[0m\u001b[32m{\u001b[0m\u001b[32m'topic': 'Sports', 'answer_type': 'Person', 'urls': \u001b[0m\u001b[32m[\u001b[0m\u001b[32m'https://en.wikipedia.org/wiki/Adolf_Anderssen', 'https://www.chessgames.com/perl/chess.pl?\u001b[0m\u001b[32mtid\u001b[0m\u001b[32m=\u001b[0m\u001b[32m79429\u001b[0m\u001b[32m', 'https://en.wikipedia.org/wiki/Adolf_Anderssen'\u001b[0m\u001b[32m]\u001b[0m\u001b[32m}\u001b[0m\u001b[32m\"\u001b[0m,\n",
       "\u001b[2;32m│   │   │   \u001b[0m\u001b[32m'input_query'\u001b[0m: \u001b[32m'In whose honor was the Leipzig 1877 tournament organized?'\u001b[0m,\n",
       "\u001b[2;32m│   │   │   \u001b[0m\u001b[32m'expected_answer'\u001b[0m: \u001b[32m'Adolf Anderssen'\u001b[0m,\n",
       "\u001b[2;32m│   │   │   \u001b[0m\u001b[32m'chat_completion_input'\u001b[0m: \u001b[32m'\u001b[0m\u001b[32m[\u001b[0m\u001b[32m{\u001b[0m\u001b[32m\"role\": \"user\", \"content\": \"In whose honor was the Leipzig 1877 tournament organized?\"\u001b[0m\u001b[32m}\u001b[0m\u001b[32m]\u001b[0m\u001b[32m'\u001b[0m\n",
       "\u001b[2;32m│   │   \u001b[0m\u001b[1m}\u001b[0m,\n",
       "\u001b[2;32m│   │   \u001b[0m\u001b[1m{\u001b[0m\n",
       "\u001b[2;32m│   │   │   \u001b[0m\u001b[32m'metadata'\u001b[0m: \u001b[32m\"\u001b[0m\u001b[32m{\u001b[0m\u001b[32m'topic': 'Art', 'answer_type': 'Person', 'urls': \u001b[0m\u001b[32m[\u001b[0m\u001b[32m'https://www.gutenberg.org/files/60408/60408-h/60408-h.htm\\\\nhttps://en.wikipedia.org/wiki/Achilleion_\u001b[0m\u001b[32m(\u001b[0m\u001b[32mCorfu\u001b[0m\u001b[32m)\u001b[0m\u001b[32m', 'https://www.gutenberg.org/cache/epub/60408/pg60408-images.html', 'https://archive.org/stream/elizabethempres01burggoog/elizabethempres01burggoog_djvu.txt', 'https://www.habsburger.net/en/chapter/achilleion-corfu-elisabeths-flight-antiquity'\u001b[0m\u001b[32m]\u001b[0m\u001b[32m}\u001b[0m\u001b[32m\"\u001b[0m,\n",
       "\u001b[2;32m│   │   │   \u001b[0m\u001b[32m'input_query'\u001b[0m: \u001b[32m\"According to Karl Küchler, what did Empress Elizabeth of Austria's favorite sculpture depict, which was made for her villa Achilleion at Corfu?\"\u001b[0m,\n",
       "\u001b[2;32m│   │   │   \u001b[0m\u001b[32m'expected_answer'\u001b[0m: \u001b[32m'Poet Henrich Heine.'\u001b[0m,\n",
       "\u001b[2;32m│   │   │   \u001b[0m\u001b[32m'chat_completion_input'\u001b[0m: \u001b[32m'\u001b[0m\u001b[32m[\u001b[0m\u001b[32m{\u001b[0m\u001b[32m\"role\": \"user\", \"content\": \"According to Karl K\\\\u00fcchler, what did Empress Elizabeth of Austria\\'s favorite sculpture depict, which was made for her villa Achilleion at Corfu?\"\u001b[0m\u001b[32m}\u001b[0m\u001b[32m]\u001b[0m\u001b[32m'\u001b[0m\n",
       "\u001b[2;32m│   │   \u001b[0m\u001b[1m}\u001b[0m\n",
       "\u001b[2;32m│   \u001b[0m\u001b[1m]\u001b[0m,\n",
       "\u001b[2;32m│   \u001b[0m\u001b[33mhas_more\u001b[0m=\u001b[3;92mTrue\u001b[0m,\n",
       "\u001b[2;32m│   \u001b[0m\u001b[33murl\u001b[0m=\u001b[32m'/v1/datasetio/iterrows/\u001b[0m\u001b[32m{\u001b[0m\u001b[32mdataset_id:path\u001b[0m\u001b[32m}\u001b[0m\u001b[32m'\u001b[0m\n",
       "\u001b[1m)\u001b[0m\n"
      ]
     },
     "metadata": {},
     "output_type": "display_data"
    }
   ],
   "source": [
    "pprint(eval_rows)"
   ]
  },
  {
   "cell_type": "markdown",
   "id": "4433f2be-6191-45d1-887b-6733215a3cfd",
   "metadata": {},
   "source": [
    "### First just to the raw model"
   ]
  },
  {
   "cell_type": "code",
   "execution_count": 91,
   "id": "c8309743-b63d-4275-8ed0-e039d0d57b2f",
   "metadata": {},
   "outputs": [
    {
     "name": "stderr",
     "output_type": "stream",
     "text": [
      "INFO:httpx:HTTP Request: POST http://llama-stack.genaiops-rag.svc.cluster.local/v1/eval/benchmarks \"HTTP/1.1 200 OK\"\n",
      "INFO:httpx:HTTP Request: POST http://llama-stack.genaiops-rag.svc.cluster.local/v1/eval/benchmarks/meta-reference::simpleqa/evaluations \"HTTP/1.1 200 OK\"\n"
     ]
    },
    {
     "data": {
      "text/html": [
       "<pre style=\"white-space:pre;overflow-x:auto;line-height:normal;font-family:Menlo,'DejaVu Sans Mono',consolas,'Courier New',monospace\"><span style=\"color: #800080; text-decoration-color: #800080; font-weight: bold\">EvaluateResponse</span><span style=\"font-weight: bold\">(</span>\n",
       "<span style=\"color: #7fbf7f; text-decoration-color: #7fbf7f\">│   </span><span style=\"color: #808000; text-decoration-color: #808000\">generations</span>=<span style=\"font-weight: bold\">[</span>\n",
       "<span style=\"color: #7fbf7f; text-decoration-color: #7fbf7f\">│   │   </span><span style=\"font-weight: bold\">{</span><span style=\"color: #008000; text-decoration-color: #008000\">'generated_answer'</span>: <span style=\"color: #008000; text-decoration-color: #008000\">'I am unable to verify who received the IEEE Frank Rosenblatt Award in 2010.'</span><span style=\"font-weight: bold\">}</span>,\n",
       "<span style=\"color: #7fbf7f; text-decoration-color: #7fbf7f\">│   │   </span><span style=\"font-weight: bold\">{</span><span style=\"color: #008000; text-decoration-color: #008000\">'generated_answer'</span>: <span style=\"color: #008000; text-decoration-color: #008000\">\"I cannot verify who was awarded the Oceanography Society's Jerlov Award in 2018.\"</span><span style=\"font-weight: bold\">}</span>,\n",
       "<span style=\"color: #7fbf7f; text-decoration-color: #7fbf7f\">│   │   </span><span style=\"font-weight: bold\">{</span>\n",
       "<span style=\"color: #7fbf7f; text-decoration-color: #7fbf7f\">│   │   │   </span><span style=\"color: #008000; text-decoration-color: #008000\">'generated_answer'</span>: <span style=\"color: #008000; text-decoration-color: #008000\">\"I am unable to verify the name of the women's liberal arts college in Cambridge, Massachusetts.\"</span>\n",
       "<span style=\"color: #7fbf7f; text-decoration-color: #7fbf7f\">│   │   </span><span style=\"font-weight: bold\">}</span>,\n",
       "<span style=\"color: #7fbf7f; text-decoration-color: #7fbf7f\">│   │   </span><span style=\"font-weight: bold\">{</span>\n",
       "<span style=\"color: #7fbf7f; text-decoration-color: #7fbf7f\">│   │   │   </span><span style=\"color: #008000; text-decoration-color: #008000\">'generated_answer'</span>: <span style=\"color: #008000; text-decoration-color: #008000\">'I am unable to verify the name of the person the Leipzig 1877 tournament was organized in honor of.'</span>\n",
       "<span style=\"color: #7fbf7f; text-decoration-color: #7fbf7f\">│   │   </span><span style=\"font-weight: bold\">}</span>,\n",
       "<span style=\"color: #7fbf7f; text-decoration-color: #7fbf7f\">│   │   </span><span style=\"font-weight: bold\">{</span>\n",
       "<span style=\"color: #7fbf7f; text-decoration-color: #7fbf7f\">│   │   │   </span><span style=\"color: #008000; text-decoration-color: #008000\">'generated_answer'</span>: <span style=\"color: #008000; text-decoration-color: #008000\">\"I am unable to verify what sculpture Empress Elizabeth of Austria's favorite sculpture depicted, which was made for her villa Achilleion at Corfu.\"</span>\n",
       "<span style=\"color: #7fbf7f; text-decoration-color: #7fbf7f\">│   │   </span><span style=\"font-weight: bold\">}</span>\n",
       "<span style=\"color: #7fbf7f; text-decoration-color: #7fbf7f\">│   </span><span style=\"font-weight: bold\">]</span>,\n",
       "<span style=\"color: #7fbf7f; text-decoration-color: #7fbf7f\">│   </span><span style=\"color: #808000; text-decoration-color: #808000\">scores</span>=<span style=\"font-weight: bold\">{</span>\n",
       "<span style=\"color: #7fbf7f; text-decoration-color: #7fbf7f\">│   │   </span><span style=\"color: #008000; text-decoration-color: #008000\">'llm-as-judge::base'</span>: <span style=\"color: #800080; text-decoration-color: #800080; font-weight: bold\">ScoringResult</span><span style=\"font-weight: bold\">(</span>\n",
       "<span style=\"color: #7fbf7f; text-decoration-color: #7fbf7f\">│   │   │   </span><span style=\"color: #808000; text-decoration-color: #808000\">aggregated_results</span>=<span style=\"font-weight: bold\">{}</span>,\n",
       "<span style=\"color: #7fbf7f; text-decoration-color: #7fbf7f\">│   │   │   </span><span style=\"color: #808000; text-decoration-color: #808000\">score_rows</span>=<span style=\"font-weight: bold\">[</span>\n",
       "<span style=\"color: #7fbf7f; text-decoration-color: #7fbf7f\">│   │   │   │   </span><span style=\"font-weight: bold\">{</span>\n",
       "<span style=\"color: #7fbf7f; text-decoration-color: #7fbf7f\">│   │   │   │   │   </span><span style=\"color: #008000; text-decoration-color: #008000\">'score'</span>: <span style=\"color: #008000; text-decoration-color: #008000\">'D'</span>,\n",
       "<span style=\"color: #7fbf7f; text-decoration-color: #7fbf7f\">│   │   │   │   │   </span><span style=\"color: #008000; text-decoration-color: #008000\">'judge_feedback'</span>: <span style=\"color: #008000; text-decoration-color: #008000\">'Answer: D, Explanation: There is a disagreement between the GENERATED RESPONSE and the EXPECTED RESPONSE.'</span>\n",
       "<span style=\"color: #7fbf7f; text-decoration-color: #7fbf7f\">│   │   │   │   </span><span style=\"font-weight: bold\">}</span>,\n",
       "<span style=\"color: #7fbf7f; text-decoration-color: #7fbf7f\">│   │   │   │   </span><span style=\"font-weight: bold\">{</span>\n",
       "<span style=\"color: #7fbf7f; text-decoration-color: #7fbf7f\">│   │   │   │   │   </span><span style=\"color: #008000; text-decoration-color: #008000\">'score'</span>: <span style=\"color: #008000; text-decoration-color: #008000\">'D'</span>,\n",
       "<span style=\"color: #7fbf7f; text-decoration-color: #7fbf7f\">│   │   │   │   │   </span><span style=\"color: #008000; text-decoration-color: #008000\">'judge_feedback'</span>: <span style=\"color: #008000; text-decoration-color: #008000\">'Answer: D, Explanation: The GENERATED RESPONSE and EXPECTED RESPONSE have a disagreement, as the GENERATED RESPONSE states it cannot verify the information, while the EXPECTED RESPONSE provides a specific name, Annick Bricaud.'</span>\n",
       "<span style=\"color: #7fbf7f; text-decoration-color: #7fbf7f\">│   │   │   │   </span><span style=\"font-weight: bold\">}</span>,\n",
       "<span style=\"color: #7fbf7f; text-decoration-color: #7fbf7f\">│   │   │   │   </span><span style=\"font-weight: bold\">{</span>\n",
       "<span style=\"color: #7fbf7f; text-decoration-color: #7fbf7f\">│   │   │   │   │   </span><span style=\"color: #008000; text-decoration-color: #008000\">'score'</span>: <span style=\"color: #008000; text-decoration-color: #008000\">'D'</span>,\n",
       "<span style=\"color: #7fbf7f; text-decoration-color: #7fbf7f\">│   │   │   │   │   </span><span style=\"color: #008000; text-decoration-color: #008000\">'judge_feedback'</span>: <span style=\"color: #008000; text-decoration-color: #008000\">'Answer: D, Explanation: The GENERATED RESPONSE and EXPECTED RESPONSE are in conflict with each other, as the GENERATED RESPONSE claims inability to verify the information, while the EXPECTED RESPONSE provides the name of the college, Radcliffe College.'</span>\n",
       "<span style=\"color: #7fbf7f; text-decoration-color: #7fbf7f\">│   │   │   │   </span><span style=\"font-weight: bold\">}</span>,\n",
       "<span style=\"color: #7fbf7f; text-decoration-color: #7fbf7f\">│   │   │   │   </span><span style=\"font-weight: bold\">{</span>\n",
       "<span style=\"color: #7fbf7f; text-decoration-color: #7fbf7f\">│   │   │   │   │   </span><span style=\"color: #008000; text-decoration-color: #008000\">'score'</span>: <span style=\"color: #008000; text-decoration-color: #008000\">'D'</span>,\n",
       "<span style=\"color: #7fbf7f; text-decoration-color: #7fbf7f\">│   │   │   │   │   </span><span style=\"color: #008000; text-decoration-color: #008000\">'judge_feedback'</span>: <span style=\"color: #008000; text-decoration-color: #008000\">'Answer: D, Explanation: The GENERATED RESPONSE is unable to verify the name of the person the Leipzig 1877 tournament was organized in honor of, which indicates a disagreement between the GENERATED RESPONSE and the EXPECTED RESPONSE.'</span>\n",
       "<span style=\"color: #7fbf7f; text-decoration-color: #7fbf7f\">│   │   │   │   </span><span style=\"font-weight: bold\">}</span>,\n",
       "<span style=\"color: #7fbf7f; text-decoration-color: #7fbf7f\">│   │   │   │   </span><span style=\"font-weight: bold\">{</span>\n",
       "<span style=\"color: #7fbf7f; text-decoration-color: #7fbf7f\">│   │   │   │   │   </span><span style=\"color: #008000; text-decoration-color: #008000\">'score'</span>: <span style=\"color: #008000; text-decoration-color: #008000\">'D'</span>,\n",
       "<span style=\"color: #7fbf7f; text-decoration-color: #7fbf7f\">│   │   │   │   │   </span><span style=\"color: #008000; text-decoration-color: #008000\">'judge_feedback'</span>: <span style=\"color: #008000; text-decoration-color: #008000\">\"Answer: D, Explanation: The GENERATED RESPONSE and EXPECTED RESPONSE contain different factual information. The GENERATED RESPONSE states that it is unable to verify the information, while the EXPECTED RESPONSE provides a specific answer about a sculpture made for Empress Elizabeth's villa.\"</span>\n",
       "<span style=\"color: #7fbf7f; text-decoration-color: #7fbf7f\">│   │   │   │   </span><span style=\"font-weight: bold\">}</span>\n",
       "<span style=\"color: #7fbf7f; text-decoration-color: #7fbf7f\">│   │   │   </span><span style=\"font-weight: bold\">]</span>\n",
       "<span style=\"color: #7fbf7f; text-decoration-color: #7fbf7f\">│   │   </span><span style=\"font-weight: bold\">)</span>\n",
       "<span style=\"color: #7fbf7f; text-decoration-color: #7fbf7f\">│   </span><span style=\"font-weight: bold\">}</span>\n",
       "<span style=\"font-weight: bold\">)</span>\n",
       "</pre>\n"
      ],
      "text/plain": [
       "\u001b[1;35mEvaluateResponse\u001b[0m\u001b[1m(\u001b[0m\n",
       "\u001b[2;32m│   \u001b[0m\u001b[33mgenerations\u001b[0m=\u001b[1m[\u001b[0m\n",
       "\u001b[2;32m│   │   \u001b[0m\u001b[1m{\u001b[0m\u001b[32m'generated_answer'\u001b[0m: \u001b[32m'I am unable to verify who received the IEEE Frank Rosenblatt Award in 2010.'\u001b[0m\u001b[1m}\u001b[0m,\n",
       "\u001b[2;32m│   │   \u001b[0m\u001b[1m{\u001b[0m\u001b[32m'generated_answer'\u001b[0m: \u001b[32m\"I cannot verify who was awarded the Oceanography Society's Jerlov Award in 2018.\"\u001b[0m\u001b[1m}\u001b[0m,\n",
       "\u001b[2;32m│   │   \u001b[0m\u001b[1m{\u001b[0m\n",
       "\u001b[2;32m│   │   │   \u001b[0m\u001b[32m'generated_answer'\u001b[0m: \u001b[32m\"I am unable to verify the name of the women's liberal arts college in Cambridge, Massachusetts.\"\u001b[0m\n",
       "\u001b[2;32m│   │   \u001b[0m\u001b[1m}\u001b[0m,\n",
       "\u001b[2;32m│   │   \u001b[0m\u001b[1m{\u001b[0m\n",
       "\u001b[2;32m│   │   │   \u001b[0m\u001b[32m'generated_answer'\u001b[0m: \u001b[32m'I am unable to verify the name of the person the Leipzig 1877 tournament was organized in honor of.'\u001b[0m\n",
       "\u001b[2;32m│   │   \u001b[0m\u001b[1m}\u001b[0m,\n",
       "\u001b[2;32m│   │   \u001b[0m\u001b[1m{\u001b[0m\n",
       "\u001b[2;32m│   │   │   \u001b[0m\u001b[32m'generated_answer'\u001b[0m: \u001b[32m\"I am unable to verify what sculpture Empress Elizabeth of Austria's favorite sculpture depicted, which was made for her villa Achilleion at Corfu.\"\u001b[0m\n",
       "\u001b[2;32m│   │   \u001b[0m\u001b[1m}\u001b[0m\n",
       "\u001b[2;32m│   \u001b[0m\u001b[1m]\u001b[0m,\n",
       "\u001b[2;32m│   \u001b[0m\u001b[33mscores\u001b[0m=\u001b[1m{\u001b[0m\n",
       "\u001b[2;32m│   │   \u001b[0m\u001b[32m'llm-as-judge::base'\u001b[0m: \u001b[1;35mScoringResult\u001b[0m\u001b[1m(\u001b[0m\n",
       "\u001b[2;32m│   │   │   \u001b[0m\u001b[33maggregated_results\u001b[0m=\u001b[1m{\u001b[0m\u001b[1m}\u001b[0m,\n",
       "\u001b[2;32m│   │   │   \u001b[0m\u001b[33mscore_rows\u001b[0m=\u001b[1m[\u001b[0m\n",
       "\u001b[2;32m│   │   │   │   \u001b[0m\u001b[1m{\u001b[0m\n",
       "\u001b[2;32m│   │   │   │   │   \u001b[0m\u001b[32m'score'\u001b[0m: \u001b[32m'D'\u001b[0m,\n",
       "\u001b[2;32m│   │   │   │   │   \u001b[0m\u001b[32m'judge_feedback'\u001b[0m: \u001b[32m'Answer: D, Explanation: There is a disagreement between the GENERATED RESPONSE and the EXPECTED RESPONSE.'\u001b[0m\n",
       "\u001b[2;32m│   │   │   │   \u001b[0m\u001b[1m}\u001b[0m,\n",
       "\u001b[2;32m│   │   │   │   \u001b[0m\u001b[1m{\u001b[0m\n",
       "\u001b[2;32m│   │   │   │   │   \u001b[0m\u001b[32m'score'\u001b[0m: \u001b[32m'D'\u001b[0m,\n",
       "\u001b[2;32m│   │   │   │   │   \u001b[0m\u001b[32m'judge_feedback'\u001b[0m: \u001b[32m'Answer: D, Explanation: The GENERATED RESPONSE and EXPECTED RESPONSE have a disagreement, as the GENERATED RESPONSE states it cannot verify the information, while the EXPECTED RESPONSE provides a specific name, Annick Bricaud.'\u001b[0m\n",
       "\u001b[2;32m│   │   │   │   \u001b[0m\u001b[1m}\u001b[0m,\n",
       "\u001b[2;32m│   │   │   │   \u001b[0m\u001b[1m{\u001b[0m\n",
       "\u001b[2;32m│   │   │   │   │   \u001b[0m\u001b[32m'score'\u001b[0m: \u001b[32m'D'\u001b[0m,\n",
       "\u001b[2;32m│   │   │   │   │   \u001b[0m\u001b[32m'judge_feedback'\u001b[0m: \u001b[32m'Answer: D, Explanation: The GENERATED RESPONSE and EXPECTED RESPONSE are in conflict with each other, as the GENERATED RESPONSE claims inability to verify the information, while the EXPECTED RESPONSE provides the name of the college, Radcliffe College.'\u001b[0m\n",
       "\u001b[2;32m│   │   │   │   \u001b[0m\u001b[1m}\u001b[0m,\n",
       "\u001b[2;32m│   │   │   │   \u001b[0m\u001b[1m{\u001b[0m\n",
       "\u001b[2;32m│   │   │   │   │   \u001b[0m\u001b[32m'score'\u001b[0m: \u001b[32m'D'\u001b[0m,\n",
       "\u001b[2;32m│   │   │   │   │   \u001b[0m\u001b[32m'judge_feedback'\u001b[0m: \u001b[32m'Answer: D, Explanation: The GENERATED RESPONSE is unable to verify the name of the person the Leipzig 1877 tournament was organized in honor of, which indicates a disagreement between the GENERATED RESPONSE and the EXPECTED RESPONSE.'\u001b[0m\n",
       "\u001b[2;32m│   │   │   │   \u001b[0m\u001b[1m}\u001b[0m,\n",
       "\u001b[2;32m│   │   │   │   \u001b[0m\u001b[1m{\u001b[0m\n",
       "\u001b[2;32m│   │   │   │   │   \u001b[0m\u001b[32m'score'\u001b[0m: \u001b[32m'D'\u001b[0m,\n",
       "\u001b[2;32m│   │   │   │   │   \u001b[0m\u001b[32m'judge_feedback'\u001b[0m: \u001b[32m\"Answer: D, Explanation: The GENERATED RESPONSE and EXPECTED RESPONSE contain different factual information. The GENERATED RESPONSE states that it is unable to verify the information, while the EXPECTED RESPONSE provides a specific answer about a sculpture made for Empress Elizabeth's villa.\"\u001b[0m\n",
       "\u001b[2;32m│   │   │   │   \u001b[0m\u001b[1m}\u001b[0m\n",
       "\u001b[2;32m│   │   │   \u001b[0m\u001b[1m]\u001b[0m\n",
       "\u001b[2;32m│   │   \u001b[0m\u001b[1m)\u001b[0m\n",
       "\u001b[2;32m│   \u001b[0m\u001b[1m}\u001b[0m\n",
       "\u001b[1m)\u001b[0m\n"
      ]
     },
     "metadata": {},
     "output_type": "display_data"
    }
   ],
   "source": [
    "client.benchmarks.register(\n",
    "    benchmark_id=\"meta-reference::simpleqa\",\n",
    "    dataset_id=simpleqa_dataset_id,\n",
    "    scoring_functions=[\"llm-as-judge::base\"],\n",
    ")\n",
    "\n",
    "response = client.eval.evaluate_rows(\n",
    "    benchmark_id=\"meta-reference::simpleqa\",\n",
    "    input_rows=eval_rows.data,\n",
    "    scoring_functions=[\"llm-as-judge::base\"],\n",
    "    benchmark_config={\n",
    "        \"eval_candidate\": {\n",
    "            \"type\": \"model\",\n",
    "            \"model\": \"llama32\",\n",
    "            \"sampling_params\": {\n",
    "                \"strategy\": {\n",
    "                    \"type\": \"greedy\",\n",
    "                },\n",
    "                \"max_tokens\": 4096,\n",
    "                \"repeat_penalty\": 1.0,\n",
    "            },\n",
    "        },\n",
    "    },\n",
    ")\n",
    "pprint(response)\n"
   ]
  },
  {
   "cell_type": "markdown",
   "id": "311223d3-6bf0-4231-936b-baaa4574b2da",
   "metadata": {},
   "source": [
    "### Then to an agent"
   ]
  },
  {
   "cell_type": "code",
   "execution_count": 98,
   "id": "1199a883-10f1-41c3-8ee4-586ecdc7ed00",
   "metadata": {},
   "outputs": [
    {
     "name": "stderr",
     "output_type": "stream",
     "text": [
      "INFO:httpx:HTTP Request: POST http://llama-stack.genaiops-rag.svc.cluster.local/v1/eval/benchmarks/meta-reference::simpleqa/evaluations \"HTTP/1.1 200 OK\"\n"
     ]
    },
    {
     "data": {
      "text/html": [
       "<pre style=\"white-space:pre;overflow-x:auto;line-height:normal;font-family:Menlo,'DejaVu Sans Mono',consolas,'Courier New',monospace\"><span style=\"color: #800080; text-decoration-color: #800080; font-weight: bold\">EvaluateResponse</span><span style=\"font-weight: bold\">(</span>\n",
       "<span style=\"color: #7fbf7f; text-decoration-color: #7fbf7f\">│   </span><span style=\"color: #808000; text-decoration-color: #808000\">generations</span>=<span style=\"font-weight: bold\">[</span>\n",
       "<span style=\"color: #7fbf7f; text-decoration-color: #7fbf7f\">│   │   </span><span style=\"font-weight: bold\">{</span>\n",
       "<span style=\"color: #7fbf7f; text-decoration-color: #7fbf7f\">│   │   │   </span><span style=\"color: #008000; text-decoration-color: #008000\">'generated_answer'</span>: <span style=\"color: #008000; text-decoration-color: #008000\">'call_id=\\'chatcmpl-tool-14a5546ea7754594a8b842792c76cfe6\\' tool_name=\\'brave_search\\' arguments=\\'{\"query\": \"IEEE Frank Rosenblatt Award 2010 recipient\", \"top_k\": \"[{\\\\\\\\\"title\\\\\\\\\": \\\\\\\\\"Michio Sugeno | IEEE Xplore Author Details\\\\\\\\\", \\\\\\\\\"url\\\\\\\\\": \\\\\\\\\"https://ieeexplore.ieee.org/author/37271220500\\\\\\\\\", \\\\\\\\\"content\\\\\\\\\": \\\\\\\\\"He is the first recipient of IEEE CIS Pioneer Award in Fuzzy Systems with Zadeh, in 2000. He was the recipient of the 2010 IEEE Frank Rosenblatt Award, and also the recipient of IEEE International Conference on Systems, Man, and Cybernetics 2017 Lotfi A. Zadeh Pioneer Award.\\\\\\\\\", \\\\\\\\\"score\\\\\\\\\": 0.8708723, \\\\\\\\\"raw_content\\\\\\\\\": null}, {\\\\\\\\\"title\\\\\\\\\": \\\\\\\\\"Non-Additive Measures: Theory and Applications | SpringerLink\\\\\\\\\", \\\\\\\\\"url\\\\\\\\\": \\\\\\\\\"https://link.springer.com/book/10.1007/978-3-319-03155-2\\\\\\\\\", \\\\\\\\\"content\\\\\\\\\": \\\\\\\\\"He is the first recipient of an IEEE Pioneer Award in Fuzzy Systems with Lotfi Zadeh in 2000 and he received the 2010 IEEE Frank Rosenblatt Award in July, 2010.\\\\\\\\\", \\\\\\\\\"score\\\\\\\\\": 0.85216236, \\\\\\\\\"raw_content\\\\\\\\\": null}, {\\\\\\\\\"title\\\\\\\\\": \\\\\\\\\"IEEE Frank Rosenblatt Award - Wikipedia\\\\\\\\\", \\\\\\\\\"url\\\\\\\\\": \\\\\\\\\"https://en.wikipedia.org/wiki/IEEE_Frank_Rosenblatt_Award\\\\\\\\\", \\\\\\\\\"content\\\\\\\\\": \\\\\\\\\"IEEE Frank Rosenblatt Award - Wikipedia IEEE Frank Rosenblatt Award page at IEEE Computational Intelligence Society List of IEEE Frank Rosenblatt Award recipients IEEE awards Biomedical Engineering Award Electromagnetics Award Internet Award Photonics Award | Other IEEE-level awards |  | Society-level awards |  Seymour Cray Computer Engineering Award (Computer Society) Computer Entrepreneur Award (Computer Society) Computer Pioneer Award (Computer Society) Mills Award (Computer Society) This science awards article is a stub. IEEE Frank Rosenblatt Award page at IEEE Computational Intelligence Society List of IEEE Frank Rosenblatt Award recipients IEEE awards Biomedical Engineering Award Electromagnetics Award Internet Award Photonics Award | Other IEEE-level awards |  | Society-level awards |  Seymour Cray Computer Engineering Award (Computer Society) Computer Entrepreneur Award (Computer Society) Computer Pioneer Award (Computer Society) Mills Award (Computer Society) This science awards article is a stub.\\\\\\\\\", \\\\\\\\\"score\\\\\\\\\": 0.5565207, \\\\\\\\\"raw_content\\\\\\\\\": null}, {\\\\\\\\\"title\\\\\\\\\": \\\\\\\\\"Current IEEE Corporate Award Recipients | IEEE Awards\\\\\\\\\", \\\\\\\\\"url\\\\\\\\\": \\\\\\\\\"https://corporate-awards.ieee.org/recipients/current-recipients/\\\\\\\\\", \\\\\\\\\"content\\\\\\\\\": \\\\\\\\\"IEEE Awards IEEE Medals IEEE Technical Field Awards IEEE President\\\\\\\\\\\\\\\\u2019s Award IEEE Awards Videos IEEE Technical Field Awards IEEE Medals IEEE Technical Field Awards 2025 IEEE Medal Recipients 2025 IEEE Technical Field Awards 2025 IEEE Medal Recipients IEEE Corporate Innovation Award \\\\\\\\\\\\\\\\u201cFor sustained leadership, global service, and outstanding contributions enabling new opportunities for IEEE and its members.\\\\\\\\\\\\\\\\u201d 2025 IEEE Technical Field Awards IEEE Control Systems Award IEEE Electromagnetics Award IEEE Internet Award IEEE Photonics Award \\\\\\\\\\\\\\\\u201cFor leadership in the development and advancement of global IEEE 802 network standards.\\\\\\\\\\\\\\\\u201d IEEE Transportation Technologies Award About IEEE Awards Board Donate to IEEE Awards IEEE Awards Overview IEEE Corporate Awards Program Collabratec Volunteer for IEEE Awards\\\\\\\\\", \\\\\\\\\"score\\\\\\\\\": 0.16170406, \\\\\\\\\"raw_content\\\\\\\\\": null}, {\\\\\\\\\"title\\\\\\\\\": \\\\\\\\\"PDF\\\\\\\\\", \\\\\\\\\"url\\\\\\\\\": \\\\\\\\\"https://corporate-awards.ieee.org/wp-content/uploads/rosenblatt-rl.pdf\\\\\\\\\", \\\\\\\\\"content\\\\\\\\\": \\\\\\\\\"2010 - MICHIO SUGENO Faculty of Culture and Information Science, Doshisha University Kyoto, Japan \\\\\\\\\\\\\\\\\\\\\\\\\"For contributions to development and applications of the theory of fuzzy sets.\\\\\\\\\\\\\\\\\\\\\\\\\"\\\\\\\\\", \\\\\\\\\"score\\\\\\\\\": 0.11364864, \\\\\\\\\"raw_content\\\\\\\\\": null}]\\''</span>\n",
       "<span style=\"color: #7fbf7f; text-decoration-color: #7fbf7f\">│   │   </span><span style=\"font-weight: bold\">}</span>,\n",
       "<span style=\"color: #7fbf7f; text-decoration-color: #7fbf7f\">│   │   </span><span style=\"font-weight: bold\">{</span>\n",
       "<span style=\"color: #7fbf7f; text-decoration-color: #7fbf7f\">│   │   │   </span><span style=\"color: #008000; text-decoration-color: #008000\">'generated_answer'</span>: <span style=\"color: #008000; text-decoration-color: #008000\">\"The recipient of the Oceanography Society's Jerlov Award in 2018 was Annick Bricaud.\"</span>\n",
       "<span style=\"color: #7fbf7f; text-decoration-color: #7fbf7f\">│   │   </span><span style=\"font-weight: bold\">}</span>,\n",
       "<span style=\"color: #7fbf7f; text-decoration-color: #7fbf7f\">│   │   </span><span style=\"font-weight: bold\">{</span>\n",
       "<span style=\"color: #7fbf7f; text-decoration-color: #7fbf7f\">│   │   │   </span><span style=\"color: #008000; text-decoration-color: #008000\">'generated_answer'</span>: <span style=\"color: #008000; text-decoration-color: #008000\">\"The name of the women's liberal arts college in Cambridge, Massachusetts is Radcliffe College.\"</span>\n",
       "<span style=\"color: #7fbf7f; text-decoration-color: #7fbf7f\">│   │   </span><span style=\"font-weight: bold\">}</span>,\n",
       "<span style=\"color: #7fbf7f; text-decoration-color: #7fbf7f\">│   │   </span><span style=\"font-weight: bold\">{</span><span style=\"color: #008000; text-decoration-color: #008000\">'generated_answer'</span>: <span style=\"color: #008000; text-decoration-color: #008000\">'The Leipzig 1877 tournament was organized in honor of Adolf Anderssen.'</span><span style=\"font-weight: bold\">}</span>,\n",
       "<span style=\"color: #7fbf7f; text-decoration-color: #7fbf7f\">│   │   </span><span style=\"font-weight: bold\">{</span>\n",
       "<span style=\"color: #7fbf7f; text-decoration-color: #7fbf7f\">│   │   │   </span><span style=\"color: #008000; text-decoration-color: #008000\">'generated_answer'</span>: <span style=\"color: #008000; text-decoration-color: #008000\">'The favorite sculpture of Empress Elizabeth of Austria, which was made for her villa Achilleion at Corfu, depicted scenes from Greek mythology and Homeric stories. The exact sculpture is not specified in the search results provided.'</span>\n",
       "<span style=\"color: #7fbf7f; text-decoration-color: #7fbf7f\">│   │   </span><span style=\"font-weight: bold\">}</span>\n",
       "<span style=\"color: #7fbf7f; text-decoration-color: #7fbf7f\">│   </span><span style=\"font-weight: bold\">]</span>,\n",
       "<span style=\"color: #7fbf7f; text-decoration-color: #7fbf7f\">│   </span><span style=\"color: #808000; text-decoration-color: #808000\">scores</span>=<span style=\"font-weight: bold\">{</span>\n",
       "<span style=\"color: #7fbf7f; text-decoration-color: #7fbf7f\">│   │   </span><span style=\"color: #008000; text-decoration-color: #008000\">'llm-as-judge::base'</span>: <span style=\"color: #800080; text-decoration-color: #800080; font-weight: bold\">ScoringResult</span><span style=\"font-weight: bold\">(</span>\n",
       "<span style=\"color: #7fbf7f; text-decoration-color: #7fbf7f\">│   │   │   </span><span style=\"color: #808000; text-decoration-color: #808000\">aggregated_results</span>=<span style=\"font-weight: bold\">{}</span>,\n",
       "<span style=\"color: #7fbf7f; text-decoration-color: #7fbf7f\">│   │   │   </span><span style=\"color: #808000; text-decoration-color: #808000\">score_rows</span>=<span style=\"font-weight: bold\">[</span>\n",
       "<span style=\"color: #7fbf7f; text-decoration-color: #7fbf7f\">│   │   │   │   </span><span style=\"font-weight: bold\">{</span>\n",
       "<span style=\"color: #7fbf7f; text-decoration-color: #7fbf7f\">│   │   │   │   │   </span><span style=\"color: #008000; text-decoration-color: #008000\">'score'</span>: <span style=\"color: #008000; text-decoration-color: #008000\">'D'</span>,\n",
       "<span style=\"color: #7fbf7f; text-decoration-color: #7fbf7f\">│   │   │   │   │   </span><span style=\"color: #008000; text-decoration-color: #008000\">'judge_feedback'</span>: <span style=\"color: #008000; text-decoration-color: #008000\">\"Answer: D, Explanation: The GENERATED RESPONSE contains information about the IEEE Frank Rosenblatt Award, including the recipient's name, Michio Sugeno, but it also contains extraneous information such as the recipient's affiliation, the award's purpose, and other details that are not present in the EXPECTED RESPONSE.\"</span>\n",
       "<span style=\"color: #7fbf7f; text-decoration-color: #7fbf7f\">│   │   │   │   </span><span style=\"font-weight: bold\">}</span>,\n",
       "<span style=\"color: #7fbf7f; text-decoration-color: #7fbf7f\">│   │   │   │   </span><span style=\"font-weight: bold\">{</span>\n",
       "<span style=\"color: #7fbf7f; text-decoration-color: #7fbf7f\">│   │   │   │   │   </span><span style=\"color: #008000; text-decoration-color: #008000\">'score'</span>: <span style=\"color: #008000; text-decoration-color: #008000\">'C'</span>,\n",
       "<span style=\"color: #7fbf7f; text-decoration-color: #7fbf7f\">│   │   │   │   │   </span><span style=\"color: #008000; text-decoration-color: #008000\">'judge_feedback'</span>: <span style=\"color: #008000; text-decoration-color: #008000\">'Answer: C, Explanation: The GENERATED RESPONSE and EXPECTED RESPONSE contain the same factual information, with no differences in content.'</span>\n",
       "<span style=\"color: #7fbf7f; text-decoration-color: #7fbf7f\">│   │   │   │   </span><span style=\"font-weight: bold\">}</span>,\n",
       "<span style=\"color: #7fbf7f; text-decoration-color: #7fbf7f\">│   │   │   │   </span><span style=\"font-weight: bold\">{</span>\n",
       "<span style=\"color: #7fbf7f; text-decoration-color: #7fbf7f\">│   │   │   │   │   </span><span style=\"color: #008000; text-decoration-color: #008000\">'score'</span>: <span style=\"color: #008000; text-decoration-color: #008000\">'C'</span>,\n",
       "<span style=\"color: #7fbf7f; text-decoration-color: #7fbf7f\">│   │   │   │   │   </span><span style=\"color: #008000; text-decoration-color: #008000\">'judge_feedback'</span>: <span style=\"color: #008000; text-decoration-color: #008000\">'Answer: C, Explanation: The GENERATED RESPONSE and EXPECTED RESPONSE contain the same information, with no additional details or discrepancies.'</span>\n",
       "<span style=\"color: #7fbf7f; text-decoration-color: #7fbf7f\">│   │   │   │   </span><span style=\"font-weight: bold\">}</span>,\n",
       "<span style=\"color: #7fbf7f; text-decoration-color: #7fbf7f\">│   │   │   │   </span><span style=\"font-weight: bold\">{</span>\n",
       "<span style=\"color: #7fbf7f; text-decoration-color: #7fbf7f\">│   │   │   │   │   </span><span style=\"color: #008000; text-decoration-color: #008000\">'score'</span>: <span style=\"color: #008000; text-decoration-color: #008000\">'B'</span>,\n",
       "<span style=\"color: #7fbf7f; text-decoration-color: #7fbf7f\">│   │   │   │   │   </span><span style=\"color: #008000; text-decoration-color: #008000\">'judge_feedback'</span>: <span style=\"color: #008000; text-decoration-color: #008000\">'Answer: B, Explanation: The GENERATED RESPONSE is a superset of the EXPECTED RESPONSE and is fully consistent with it.'</span>\n",
       "<span style=\"color: #7fbf7f; text-decoration-color: #7fbf7f\">│   │   │   │   </span><span style=\"font-weight: bold\">}</span>,\n",
       "<span style=\"color: #7fbf7f; text-decoration-color: #7fbf7f\">│   │   │   │   </span><span style=\"font-weight: bold\">{</span>\n",
       "<span style=\"color: #7fbf7f; text-decoration-color: #7fbf7f\">│   │   │   │   │   </span><span style=\"color: #008000; text-decoration-color: #008000\">'score'</span>: <span style=\"color: #008000; text-decoration-color: #008000\">'D'</span>,\n",
       "<span style=\"color: #7fbf7f; text-decoration-color: #7fbf7f\">│   │   │   │   │   </span><span style=\"color: #008000; text-decoration-color: #008000\">'judge_feedback'</span>: <span style=\"color: #008000; text-decoration-color: #008000\">'Answer: D, Explanation: The GENERATED RESPONSE and EXPECTED RESPONSE contain different factual information. The GENERATED RESPONSE states that the favorite sculpture of Empress Elizabeth of Austria depicted scenes from Greek mythology and Homeric stories, while the EXPECTED RESPONSE incorrectly states that the favorite sculpture was made by poet Henrich Heine.'</span>\n",
       "<span style=\"color: #7fbf7f; text-decoration-color: #7fbf7f\">│   │   │   │   </span><span style=\"font-weight: bold\">}</span>\n",
       "<span style=\"color: #7fbf7f; text-decoration-color: #7fbf7f\">│   │   │   </span><span style=\"font-weight: bold\">]</span>\n",
       "<span style=\"color: #7fbf7f; text-decoration-color: #7fbf7f\">│   │   </span><span style=\"font-weight: bold\">)</span>\n",
       "<span style=\"color: #7fbf7f; text-decoration-color: #7fbf7f\">│   </span><span style=\"font-weight: bold\">}</span>\n",
       "<span style=\"font-weight: bold\">)</span>\n",
       "</pre>\n"
      ],
      "text/plain": [
       "\u001b[1;35mEvaluateResponse\u001b[0m\u001b[1m(\u001b[0m\n",
       "\u001b[2;32m│   \u001b[0m\u001b[33mgenerations\u001b[0m=\u001b[1m[\u001b[0m\n",
       "\u001b[2;32m│   │   \u001b[0m\u001b[1m{\u001b[0m\n",
       "\u001b[2;32m│   │   │   \u001b[0m\u001b[32m'generated_answer'\u001b[0m: \u001b[32m'\u001b[0m\u001b[32mcall_id\u001b[0m\u001b[32m=\\'chatcmpl-tool-14a5546ea7754594a8b842792c76cfe6\\' \u001b[0m\u001b[32mtool_name\u001b[0m\u001b[32m=\\'brave_search\\' \u001b[0m\u001b[32marguments\u001b[0m\u001b[32m=\\'\u001b[0m\u001b[32m{\u001b[0m\u001b[32m\"query\": \"IEEE Frank Rosenblatt Award 2010 recipient\", \"top_k\": \"\u001b[0m\u001b[32m[\u001b[0m\u001b[32m{\u001b[0m\u001b[32m\\\\\\\\\"title\\\\\\\\\": \\\\\\\\\"Michio Sugeno | IEEE Xplore Author Details\\\\\\\\\", \\\\\\\\\"url\\\\\\\\\": \\\\\\\\\"https://ieeexplore.ieee.org/author/37271220500\\\\\\\\\", \\\\\\\\\"content\\\\\\\\\": \\\\\\\\\"He is the first recipient of IEEE CIS Pioneer Award in Fuzzy Systems with Zadeh, in 2000. He was the recipient of the 2010 IEEE Frank Rosenblatt Award, and also the recipient of IEEE International Conference on Systems, Man, and Cybernetics 2017 Lotfi A. Zadeh Pioneer Award.\\\\\\\\\", \\\\\\\\\"score\\\\\\\\\": 0.8708723, \\\\\\\\\"raw_content\\\\\\\\\": null\u001b[0m\u001b[32m}\u001b[0m\u001b[32m, \u001b[0m\u001b[32m{\u001b[0m\u001b[32m\\\\\\\\\"title\\\\\\\\\": \\\\\\\\\"Non-Additive Measures: Theory and Applications | SpringerLink\\\\\\\\\", \\\\\\\\\"url\\\\\\\\\": \\\\\\\\\"https://link.springer.com/book/10.1007/978-3-319-03155-2\\\\\\\\\", \\\\\\\\\"content\\\\\\\\\": \\\\\\\\\"He is the first recipient of an IEEE Pioneer Award in Fuzzy Systems with Lotfi Zadeh in 2000 and he received the 2010 IEEE Frank Rosenblatt Award in July, 2010.\\\\\\\\\", \\\\\\\\\"score\\\\\\\\\": 0.85216236, \\\\\\\\\"raw_content\\\\\\\\\": null\u001b[0m\u001b[32m}\u001b[0m\u001b[32m, \u001b[0m\u001b[32m{\u001b[0m\u001b[32m\\\\\\\\\"title\\\\\\\\\": \\\\\\\\\"IEEE Frank Rosenblatt Award - Wikipedia\\\\\\\\\", \\\\\\\\\"url\\\\\\\\\": \\\\\\\\\"https://en.wikipedia.org/wiki/IEEE_Frank_Rosenblatt_Award\\\\\\\\\", \\\\\\\\\"content\\\\\\\\\": \\\\\\\\\"IEEE Frank Rosenblatt Award - Wikipedia IEEE Frank Rosenblatt Award page at IEEE Computational Intelligence Society List of IEEE Frank Rosenblatt Award recipients IEEE awards Biomedical Engineering Award Electromagnetics Award Internet Award Photonics Award | Other IEEE-level awards |  | Society-level awards |  Seymour Cray Computer Engineering Award \u001b[0m\u001b[32m(\u001b[0m\u001b[32mComputer Society\u001b[0m\u001b[32m)\u001b[0m\u001b[32m Computer Entrepreneur Award \u001b[0m\u001b[32m(\u001b[0m\u001b[32mComputer Society\u001b[0m\u001b[32m)\u001b[0m\u001b[32m Computer Pioneer Award \u001b[0m\u001b[32m(\u001b[0m\u001b[32mComputer Society\u001b[0m\u001b[32m)\u001b[0m\u001b[32m Mills Award \u001b[0m\u001b[32m(\u001b[0m\u001b[32mComputer Society\u001b[0m\u001b[32m)\u001b[0m\u001b[32m This science awards article is a stub. IEEE Frank Rosenblatt Award page at IEEE Computational Intelligence Society List of IEEE Frank Rosenblatt Award recipients IEEE awards Biomedical Engineering Award Electromagnetics Award Internet Award Photonics Award | Other IEEE-level awards |  | Society-level awards |  Seymour Cray Computer Engineering Award \u001b[0m\u001b[32m(\u001b[0m\u001b[32mComputer Society\u001b[0m\u001b[32m)\u001b[0m\u001b[32m Computer Entrepreneur Award \u001b[0m\u001b[32m(\u001b[0m\u001b[32mComputer Society\u001b[0m\u001b[32m)\u001b[0m\u001b[32m Computer Pioneer Award \u001b[0m\u001b[32m(\u001b[0m\u001b[32mComputer Society\u001b[0m\u001b[32m)\u001b[0m\u001b[32m Mills Award \u001b[0m\u001b[32m(\u001b[0m\u001b[32mComputer Society\u001b[0m\u001b[32m)\u001b[0m\u001b[32m This science awards article is a stub.\\\\\\\\\", \\\\\\\\\"score\\\\\\\\\": 0.5565207, \\\\\\\\\"raw_content\\\\\\\\\": null\u001b[0m\u001b[32m}\u001b[0m\u001b[32m, \u001b[0m\u001b[32m{\u001b[0m\u001b[32m\\\\\\\\\"title\\\\\\\\\": \\\\\\\\\"Current IEEE Corporate Award Recipients | IEEE Awards\\\\\\\\\", \\\\\\\\\"url\\\\\\\\\": \\\\\\\\\"https://corporate-awards.ieee.org/recipients/current-recipients/\\\\\\\\\", \\\\\\\\\"content\\\\\\\\\": \\\\\\\\\"IEEE Awards IEEE Medals IEEE Technical Field Awards IEEE President\\\\\\\\\\\\\\\\u2019s Award IEEE Awards Videos IEEE Technical Field Awards IEEE Medals IEEE Technical Field Awards 2025 IEEE Medal Recipients 2025 IEEE Technical Field Awards 2025 IEEE Medal Recipients IEEE Corporate Innovation Award \\\\\\\\\\\\\\\\u201cFor sustained leadership, global service, and outstanding contributions enabling new opportunities for IEEE and its members.\\\\\\\\\\\\\\\\u201d 2025 IEEE Technical Field Awards IEEE Control Systems Award IEEE Electromagnetics Award IEEE Internet Award IEEE Photonics Award \\\\\\\\\\\\\\\\u201cFor leadership in the development and advancement of global IEEE 802 network standards.\\\\\\\\\\\\\\\\u201d IEEE Transportation Technologies Award About IEEE Awards Board Donate to IEEE Awards IEEE Awards Overview IEEE Corporate Awards Program Collabratec Volunteer for IEEE Awards\\\\\\\\\", \\\\\\\\\"score\\\\\\\\\": 0.16170406, \\\\\\\\\"raw_content\\\\\\\\\": null\u001b[0m\u001b[32m}\u001b[0m\u001b[32m, \u001b[0m\u001b[32m{\u001b[0m\u001b[32m\\\\\\\\\"title\\\\\\\\\": \\\\\\\\\"PDF\\\\\\\\\", \\\\\\\\\"url\\\\\\\\\": \\\\\\\\\"https://corporate-awards.ieee.org/wp-content/uploads/rosenblatt-rl.pdf\\\\\\\\\", \\\\\\\\\"content\\\\\\\\\": \\\\\\\\\"2010 - MICHIO SUGENO Faculty of Culture and Information Science, Doshisha University Kyoto, Japan \\\\\\\\\\\\\\\\\\\\\\\\\"For contributions to development and applications of the theory of fuzzy sets.\\\\\\\\\\\\\\\\\\\\\\\\\"\\\\\\\\\", \\\\\\\\\"score\\\\\\\\\": 0.11364864, \\\\\\\\\"raw_content\\\\\\\\\": null\u001b[0m\u001b[32m}\u001b[0m\u001b[32m]\u001b[0m\u001b[32m\\''\u001b[0m\n",
       "\u001b[2;32m│   │   \u001b[0m\u001b[1m}\u001b[0m,\n",
       "\u001b[2;32m│   │   \u001b[0m\u001b[1m{\u001b[0m\n",
       "\u001b[2;32m│   │   │   \u001b[0m\u001b[32m'generated_answer'\u001b[0m: \u001b[32m\"The recipient of the Oceanography Society's Jerlov Award in 2018 was Annick Bricaud.\"\u001b[0m\n",
       "\u001b[2;32m│   │   \u001b[0m\u001b[1m}\u001b[0m,\n",
       "\u001b[2;32m│   │   \u001b[0m\u001b[1m{\u001b[0m\n",
       "\u001b[2;32m│   │   │   \u001b[0m\u001b[32m'generated_answer'\u001b[0m: \u001b[32m\"The name of the women's liberal arts college in Cambridge, Massachusetts is Radcliffe College.\"\u001b[0m\n",
       "\u001b[2;32m│   │   \u001b[0m\u001b[1m}\u001b[0m,\n",
       "\u001b[2;32m│   │   \u001b[0m\u001b[1m{\u001b[0m\u001b[32m'generated_answer'\u001b[0m: \u001b[32m'The Leipzig 1877 tournament was organized in honor of Adolf Anderssen.'\u001b[0m\u001b[1m}\u001b[0m,\n",
       "\u001b[2;32m│   │   \u001b[0m\u001b[1m{\u001b[0m\n",
       "\u001b[2;32m│   │   │   \u001b[0m\u001b[32m'generated_answer'\u001b[0m: \u001b[32m'The favorite sculpture of Empress Elizabeth of Austria, which was made for her villa Achilleion at Corfu, depicted scenes from Greek mythology and Homeric stories. The exact sculpture is not specified in the search results provided.'\u001b[0m\n",
       "\u001b[2;32m│   │   \u001b[0m\u001b[1m}\u001b[0m\n",
       "\u001b[2;32m│   \u001b[0m\u001b[1m]\u001b[0m,\n",
       "\u001b[2;32m│   \u001b[0m\u001b[33mscores\u001b[0m=\u001b[1m{\u001b[0m\n",
       "\u001b[2;32m│   │   \u001b[0m\u001b[32m'llm-as-judge::base'\u001b[0m: \u001b[1;35mScoringResult\u001b[0m\u001b[1m(\u001b[0m\n",
       "\u001b[2;32m│   │   │   \u001b[0m\u001b[33maggregated_results\u001b[0m=\u001b[1m{\u001b[0m\u001b[1m}\u001b[0m,\n",
       "\u001b[2;32m│   │   │   \u001b[0m\u001b[33mscore_rows\u001b[0m=\u001b[1m[\u001b[0m\n",
       "\u001b[2;32m│   │   │   │   \u001b[0m\u001b[1m{\u001b[0m\n",
       "\u001b[2;32m│   │   │   │   │   \u001b[0m\u001b[32m'score'\u001b[0m: \u001b[32m'D'\u001b[0m,\n",
       "\u001b[2;32m│   │   │   │   │   \u001b[0m\u001b[32m'judge_feedback'\u001b[0m: \u001b[32m\"Answer: D, Explanation: The GENERATED RESPONSE contains information about the IEEE Frank Rosenblatt Award, including the recipient's name, Michio Sugeno, but it also contains extraneous information such as the recipient's affiliation, the award's purpose, and other details that are not present in the EXPECTED RESPONSE.\"\u001b[0m\n",
       "\u001b[2;32m│   │   │   │   \u001b[0m\u001b[1m}\u001b[0m,\n",
       "\u001b[2;32m│   │   │   │   \u001b[0m\u001b[1m{\u001b[0m\n",
       "\u001b[2;32m│   │   │   │   │   \u001b[0m\u001b[32m'score'\u001b[0m: \u001b[32m'C'\u001b[0m,\n",
       "\u001b[2;32m│   │   │   │   │   \u001b[0m\u001b[32m'judge_feedback'\u001b[0m: \u001b[32m'Answer: C, Explanation: The GENERATED RESPONSE and EXPECTED RESPONSE contain the same factual information, with no differences in content.'\u001b[0m\n",
       "\u001b[2;32m│   │   │   │   \u001b[0m\u001b[1m}\u001b[0m,\n",
       "\u001b[2;32m│   │   │   │   \u001b[0m\u001b[1m{\u001b[0m\n",
       "\u001b[2;32m│   │   │   │   │   \u001b[0m\u001b[32m'score'\u001b[0m: \u001b[32m'C'\u001b[0m,\n",
       "\u001b[2;32m│   │   │   │   │   \u001b[0m\u001b[32m'judge_feedback'\u001b[0m: \u001b[32m'Answer: C, Explanation: The GENERATED RESPONSE and EXPECTED RESPONSE contain the same information, with no additional details or discrepancies.'\u001b[0m\n",
       "\u001b[2;32m│   │   │   │   \u001b[0m\u001b[1m}\u001b[0m,\n",
       "\u001b[2;32m│   │   │   │   \u001b[0m\u001b[1m{\u001b[0m\n",
       "\u001b[2;32m│   │   │   │   │   \u001b[0m\u001b[32m'score'\u001b[0m: \u001b[32m'B'\u001b[0m,\n",
       "\u001b[2;32m│   │   │   │   │   \u001b[0m\u001b[32m'judge_feedback'\u001b[0m: \u001b[32m'Answer: B, Explanation: The GENERATED RESPONSE is a superset of the EXPECTED RESPONSE and is fully consistent with it.'\u001b[0m\n",
       "\u001b[2;32m│   │   │   │   \u001b[0m\u001b[1m}\u001b[0m,\n",
       "\u001b[2;32m│   │   │   │   \u001b[0m\u001b[1m{\u001b[0m\n",
       "\u001b[2;32m│   │   │   │   │   \u001b[0m\u001b[32m'score'\u001b[0m: \u001b[32m'D'\u001b[0m,\n",
       "\u001b[2;32m│   │   │   │   │   \u001b[0m\u001b[32m'judge_feedback'\u001b[0m: \u001b[32m'Answer: D, Explanation: The GENERATED RESPONSE and EXPECTED RESPONSE contain different factual information. The GENERATED RESPONSE states that the favorite sculpture of Empress Elizabeth of Austria depicted scenes from Greek mythology and Homeric stories, while the EXPECTED RESPONSE incorrectly states that the favorite sculpture was made by poet Henrich Heine.'\u001b[0m\n",
       "\u001b[2;32m│   │   │   │   \u001b[0m\u001b[1m}\u001b[0m\n",
       "\u001b[2;32m│   │   │   \u001b[0m\u001b[1m]\u001b[0m\n",
       "\u001b[2;32m│   │   \u001b[0m\u001b[1m)\u001b[0m\n",
       "\u001b[2;32m│   \u001b[0m\u001b[1m}\u001b[0m\n",
       "\u001b[1m)\u001b[0m\n"
      ]
     },
     "metadata": {},
     "output_type": "display_data"
    }
   ],
   "source": [
    "agent_config = {\n",
    "    \"model\": \"llama32\",\n",
    "    \"instructions\": \"You are a helpful assistant that have access to tool to search the web. \",\n",
    "    \"sampling_params\": {\n",
    "        \"strategy\": {\n",
    "            \"type\": \"top_p\",\n",
    "            \"temperature\": 0.5,\n",
    "            \"top_p\": 0.9,\n",
    "        }\n",
    "    },\n",
    "    \"toolgroups\": [\n",
    "        \"builtin::websearch\",\n",
    "    ],\n",
    "    \"tool_choice\": \"auto\",\n",
    "    \"tool_prompt_format\": \"json\",\n",
    "    \"input_shields\": [],\n",
    "    \"output_shields\": [],\n",
    "    \"enable_session_persistence\": False,\n",
    "}\n",
    "\n",
    "response = client.eval.evaluate_rows(\n",
    "    benchmark_id=\"meta-reference::simpleqa\",\n",
    "    input_rows=eval_rows.data,\n",
    "    scoring_functions=[\"llm-as-judge::base\"],\n",
    "    benchmark_config={\n",
    "        \"eval_candidate\": {\n",
    "            \"type\": \"agent\",\n",
    "            \"config\": agent_config,\n",
    "        },\n",
    "    },\n",
    ")\n",
    "pprint(response)"
   ]
  }
 ],
 "metadata": {
  "kernelspec": {
   "display_name": "app-root",
   "language": "python",
   "name": "python3"
  },
  "language_info": {
   "codemirror_mode": {
    "name": "ipython",
    "version": 3
   },
   "file_extension": ".py",
   "mimetype": "text/x-python",
   "name": "python",
   "nbconvert_exporter": "python",
   "pygments_lexer": "ipython3",
   "version": "3.11.9"
  }
 },
 "nbformat": 4,
 "nbformat_minor": 5
}
