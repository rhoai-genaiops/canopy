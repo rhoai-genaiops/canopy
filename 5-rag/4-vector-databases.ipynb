{
 "cells": [
  {
   "cell_type": "markdown",
   "id": "d05e1451-95f8-4dba-9a77-29b446e5304f",
   "metadata": {},
   "source": [
    "# 🗃️ Vector Database: The Heart of Educational RAG\n",
    "\n",
    "This notebook shows you how to build and use vector databases that power intelligent educational platforms like Canopy.\n",
    "\n",
    "You've already deployed Milvus through GitOps - now let's see how it works! We'll convert course content into searchable vectors and demonstrate how students can find relevant materials by meaning, not just keywords.\n",
    "\n",
    "Let's build your vector database! 🚀"
   ]
  },
  {
   "cell_type": "markdown",
   "id": "f9789051",
   "metadata": {},
   "source": [
    "## 📦 Install Required Packages\n",
    "\n",
    "Install the Python packages needed for this lab."
   ]
  },
  {
   "cell_type": "code",
   "execution_count": null,
   "id": "08886914",
   "metadata": {},
   "outputs": [],
   "source": [
    "# Step 1: Install necessary libraries (run in a cell if needed)\n",
    "!pip install -q pymilvus==2.5.0 sentence-transformers==3.0.1 scikit-learn==1.4.2 matplotlib==3.8.4 marshmallow==3.20.2 boto3==1.34.103 docling==2.39.0 huggingface-hub==0.33.2 langchain-core==0.3.68 langchain-openai==0.3.27"
   ]
  },
  {
   "cell_type": "markdown",
   "id": "0875c35f",
   "metadata": {},
   "source": [
    "## 📚 Import Libraries\n",
    "\n",
    "Import the tools we'll use for vector database operations."
   ]
  },
  {
   "cell_type": "code",
   "execution_count": null,
   "id": "34e9a822-a34d-4755-b954-d76d2bf897f5",
   "metadata": {},
   "outputs": [],
   "source": [
    "# Import libraries for vector database operations\n",
    "from pymilvus import connections, utility, Collection, CollectionSchema, FieldSchema, DataType\n",
    "from sentence_transformers import SentenceTransformer\n",
    "from sklearn.metrics.pairwise import cosine_similarity\n",
    "import matplotlib.pyplot as plt\n",
    "from sklearn.decomposition import PCA"
   ]
  },
  {
   "cell_type": "markdown",
   "id": "f8acfa6d-a20f-4028-ba4c-f6be7cfb39ec",
   "metadata": {},
   "source": [
    "## 🗃️ Populate Your Vector Database\n",
    "\n",
    "Let's connect to Milvus and set up a collection to store course content as searchable vectors.\n",
    "\n",
    "We'll use the `all-MiniLM-L6-v2` embedding model which creates 384-dimensional vectors. The vector dimensions must match your chosen embedding model exactly! There are many different embedding models available on Hugging Face - check the **[Embedding LLM Leaderboard](https://huggingface.co/spaces/mteb/leaderboard)** to compare them.\n",
    "\n",
    "`all-MiniLM-L6-v2` isn't the top performer, but it's one of the best in its size class and downloads/runs quickly for this lab."
   ]
  },
  {
   "cell_type": "markdown",
   "id": "c5167bb0-7c73-41ad-a330-ef84356555fa",
   "metadata": {},
   "source": [
    "## 🔗 Connect to Your Milvus Database\n",
    "\n",
    "Connect to the Milvus instance you deployed via GitOps.\n",
    "\n",
    "‼️⚠️ IMPORTANT ⚠️‼️\n",
    "\n",
    "Add your username and cluster domain that were shared with you. This connects to your Milvus instance in the `{username}-test` namespace.\n",
    "\n",
    "### 🖼️ Optional: Explore Milvus Attu Web Interface\n",
    "\n",
    "Before we start coding, you can visually explore your empty Milvus database using Attu (Milvus web UI):\n",
    "\n",
    "**Attu URL**: `https://milvus-test-attu-{username}-test.{cluster_domain}`\n",
    "\n",
    "Replace `{username}` and `{cluster_domain}` with your values. You'll see an empty database initially - perfect for understanding the starting point!"
   ]
  },
  {
   "cell_type": "code",
   "execution_count": null,
   "id": "655a8b57-2f33-43ed-be0e-2f9ddd0bb57b",
   "metadata": {},
   "outputs": [],
   "source": [
    "# IMPORTANT! Add your username and cluster domain here\n",
    "username = \"<USER_NAME>\"\n",
    "cluster_domain = \"<CLUSTER_DOMAIN>\"\n",
    "\n",
    "# Define collection name for our educational content vectors\n",
    "collection_name = \"vectordb_collection\"\n",
    "\n",
    "connections.connect(\n",
    "    uri=f\"http://milvus-test.{username}-test.svc.cluster.local:19530\",\n",
    "    alias=\"default\"\n",
    ")"
   ]
  },
  {
   "cell_type": "markdown",
   "id": "39a04e28-c0c2-453a-afb3-26d64f81b61b",
   "metadata": {},
   "source": [
    "## 🧹 Clean Up Previous Runs\n",
    "\n",
    "Remove any existing collections to start fresh."
   ]
  },
  {
   "cell_type": "code",
   "execution_count": null,
   "id": "0597e32f-9e61-48d6-952c-4580f19791f7",
   "metadata": {},
   "outputs": [],
   "source": [
    "# Remove existing collection if it exists\n",
    "if utility.has_collection(collection_name):\n",
    "    utility.drop_collection(collection_name)\n",
    "\n",
    "print(f\"Collection list after cleanup: {utility.list_collections()}\")"
   ]
  },
  {
   "cell_type": "markdown",
   "id": "a07f308a-70cc-4954-bd7f-377050bc8d31",
   "metadata": {},
   "source": [
    "## 📋 Define Database Schema\n",
    "\n",
    "Vector databases need a schema just like traditional databases. Our schema defines what each record contains: a unique ID and a vector embedding.\n",
    "\n",
    "This structure is essential for storing and managing vector embeddings efficiently - Milvus needs to know exactly what fields to expect and their data types."
   ]
  },
  {
   "cell_type": "code",
   "execution_count": null,
   "id": "9a1d13cc-1884-44a3-a4ab-2b2ed655426b",
   "metadata": {},
   "outputs": [],
   "source": [
    "# Databases need a schema that defines the structure of each record\n",
    "# Our schema has two fields: an identifier and a vector embedding\n",
    "\n",
    "# Define the primary key field for unique record identification\n",
    "id_field = FieldSchema(\n",
    "    name=\"id\",\n",
    "    dtype=DataType.INT64,\n",
    "    is_primary=True,\n",
    "    auto_id=False\n",
    ")\n",
    "\n",
    "# Specify embedding model and its output dimension\n",
    "embedding_model = \"all-MiniLM-L6-v2\"  # Hugging Face model name\n",
    "embedding_dim = 384  # Vector size must match model output\n",
    "\n",
    "# Define the vector field to hold embedding values\n",
    "embedding_field = FieldSchema(\n",
    "    name=\"embedding\",\n",
    "    dtype=DataType.FLOAT_VECTOR,\n",
    "    dim=embedding_dim\n",
    ")\n",
    "\n",
    "# Assemble collection schema combining ID and embedding fields\n",
    "schema = CollectionSchema(\n",
    "    fields=[id_field, embedding_field],\n",
    "    description=\"Educational content vectors\",\n",
    "    enable_dynamic_field=False  # Strict schema enforcement\n",
    ")"
   ]
  },
  {
   "cell_type": "markdown",
   "id": "fa222056-2372-4530-81ff-cf9e662ca7c0",
   "metadata": {},
   "source": [
    "## 🏗️ Create the Collection\n",
    "\n",
    "A collection in Milvus is like a table in a traditional database - it's where your embedding vectors will be stored, indexed, and queried.\n",
    "\n",
    "We'll configure it with strong consistency to ensure you always get the most up-to-date data when searching for educational content."
   ]
  },
  {
   "cell_type": "code",
   "execution_count": null,
   "id": "c1594974-484a-4b48-bbfc-4166f393d731",
   "metadata": {},
   "outputs": [],
   "source": [
    "# Create the Milvus collection with our schema and configuration\n",
    "collection = Collection(\n",
    "    name=collection_name, \n",
    "    schema=schema, \n",
    "    using='default',  # Use default connection\n",
    "    shards_num=2,  # Number of data shards for distribution\n",
    "    consistency_level=\"Strong\"  # Ensures latest data is always returned\n",
    ")\n",
    "\n",
    "print(f\"Collection: {collection.schema}\\n\")\n",
    "\n",
    "print(f\"Collection list: {utility.list_collections()}\")"
   ]
  },
  {
   "cell_type": "markdown",
   "id": "b4fc3356-8e5d-4cd4-86a7-9a9bad767884",
   "metadata": {},
   "source": [
    "## 💾 Store Content in Vector Database\n",
    "\n",
    "Time to save our course content vectors in Milvus for searching!"
   ]
  },
  {
   "cell_type": "code",
   "execution_count": null,
   "id": "4a335e56-4058-4b5c-b11a-fee2399230ce",
   "metadata": {},
   "outputs": [],
   "source": [
    "# Load embedding model from Hugging Face\n",
    "model = SentenceTransformer(embedding_model)\n",
    "\n",
    "sentences = [\"Introduction to Machine Learning covers supervised learning algorithms.\",\n",
    "             \"Machine Learning fundamentals include supervised algorithm techniques.\",\n",
    "             \"Computer Science department offers advanced database systems courses.\",\n",
    "             \"Students can access research databases through the library portal.\"]\n",
    "\n",
    "embeddings = model.encode(sentences)"
   ]
  },
  {
   "cell_type": "code",
   "execution_count": null,
   "id": "cfb03b66-f384-4c89-ba37-326420ab07ea",
   "metadata": {},
   "outputs": [],
   "source": [
    "# Prepare educational content vectors for database insertion\n",
    "data = [\n",
    "    {\"id\": i, \"embedding\": vec.tolist()}  # Convert numpy array to list\n",
    "    for i, vec in enumerate(embeddings)\n",
    "]\n",
    "\n",
    "# Insert the vectors into our Milvus collection\n",
    "collection.insert(data=data)\n",
    "\n",
    "# Create an index for fast similarity searching\n",
    "# COSINE metric is perfect for semantic similarity\n",
    "collection.create_index(\n",
    "    field_name=\"embedding\",\n",
    "    index_params={\n",
    "        \"metric_type\": \"COSINE\",  # Cosine similarity for semantic search\n",
    "        \"index_type\": \"IVF_FLAT\",  # Inverted file index\n",
    "        \"params\": {\"nlist\": 128}  # Number of clusters for indexing\n",
    "    },\n",
    "    index_name=\"idx\"\n",
    ")\n",
    "\n",
    "# Commit changes and load collection into memory for searching\n",
    "collection.flush()  # Ensure data is written to disk\n",
    "collection.load()   # Load collection into memory for fast queries"
   ]
  },
  {
   "cell_type": "markdown",
   "id": "1c2e39c2",
   "metadata": {},
   "source": [
    "### 📊 Check Attu After Insertion\n",
    "\n",
    "Now visit your Attu web interface again to see the data visualization:\n",
    "\n",
    "**Attu URL**: `https://milvus-test-attu-<USER_NAME>-test.<CLUSTER_DOMAIN>`\n",
    "\n",
    "You'll now see your collection with 4 educational content vectors!"
   ]
  },
  {
   "cell_type": "markdown",
   "id": "3d8c4b0e-d3db-4615-b445-00212788dff1",
   "metadata": {},
   "source": [
    "## 🔎 Search Your Vector Database\n",
    "\n",
    "Now the exciting part! Let's search for educational content using semantic similarity. We stored four course-related sentences - two about Machine Learning, two about other topics.\n",
    "\n",
    "We'll search with \"What AI ethics topics are covered in the curriculum?\" and see how Machine Learning content scores higher than unrelated academic content. This demonstrates exactly how Canopy finds relevant course materials when students ask questions!"
   ]
  },
  {
   "cell_type": "code",
   "execution_count": null,
   "id": "8bec26c4-6105-47b0-b430-2505f38ab8ea",
   "metadata": {},
   "outputs": [],
   "source": [
    "# Demonstrate semantic search with educational query\n",
    "print(\"\\n🔁 VECTOR DATABASE RETRIEVAL DEMO\")\n",
    "query = \"What AI ethics topics are covered in the curriculum?\"\n",
    "query_vector = model.encode([query])  # Convert query to vector\n",
    "\n",
    "# Search our vector database for semantically similar content\n",
    "results = collection.search(\n",
    "    data=query_vector,\n",
    "    anns_field=\"embedding\",  # Field containing our vectors\n",
    "    param={\"metric_type\": \"COSINE\"},  # Use cosine similarity\n",
    "    limit=3,  # Return top 3 matches\n",
    "    output_fields=[\"embedding\"]  # Include original vectors in results\n",
    ")\n",
    "\n",
    "# Map result IDs back to original text\n",
    "id_to_text = {i: sentence for i, sentence in enumerate(sentences)}\n",
    "\n",
    "# Display the search results with similarity scores\n",
    "print(f\"\\n📌 Query: '{query}'\\n\")\n",
    "print(\"📥 Top matches:\\n\")\n",
    "for match in results[0]:\n",
    "    match_id = match.id\n",
    "    score = match.score  # Cosine similarity score (higher = more similar)\n",
    "    matched_text = id_to_text.get(match_id, \"[Unknown]\")\n",
    "\n",
    "    print(f\"🆔 ID: {match_id}\")\n",
    "    print(f\"🧠 Text: {matched_text}\")\n",
    "    print(f\"📏 Score: {score:.4f}\\n\")\n",
    "\n",
    "print(\"✅ Notice: ML-related content gets higher similarity scores!\")\n",
    "print(\"🎓 This is exactly how Canopy finds relevant course materials!\")"
   ]
  },
  {
   "cell_type": "code",
   "execution_count": null,
   "id": "766da69d-2a18-4851-aab9-c3a391247c78",
   "metadata": {},
   "outputs": [],
   "source": [
    "# Clean up - close connection and remove collection (optional)\n",
    "collection.release()\n",
    "#utility.drop_collection(collection_name) # If you remove this you won't see it in Attu"
   ]
  },
  {
   "cell_type": "markdown",
   "id": "79l5mpxxbw",
   "metadata": {},
   "source": [
    "## 🎉 You've Set up your Vector Database!\n",
    "\n",
    "**What you accomplished:**\n",
    "- Connected to your deployed Milvus instance via GitOps\n",
    "- Learned how embedding models convert text to searchable vectors\n",
    "- Created a database schema and collection for educational content  \n",
    "- Tested semantic similarity with course materials\n",
    "- Demonstrated how vector search finds relevant content by meaning\n",
    "\n",
    "**Key insights:**\n",
    "- Related educational content (like ML courses) gets high similarity scores\n",
    "- Unrelated content gets filtered out automatically\n",
    "- This enables intelligent search that understands context, not just keywords\n",
    "\n",
    "This is the foundation that powers Canopy's intelligent search capabilities. Students can now ask questions and get relevant answers based on meaning!\n",
    "\n",
    "Go back to the instructions to integrate this vector database with LlamaStack for complete RAG functionality."
   ]
  }
 ],
 "metadata": {
  "kernelspec": {
   "display_name": "app-root",
   "language": "python",
   "name": "python3"
  },
  "language_info": {
   "codemirror_mode": {
    "name": "ipython",
    "version": 3
   },
   "file_extension": ".py",
   "mimetype": "text/x-python",
   "name": "python",
   "nbconvert_exporter": "python",
   "pygments_lexer": "ipython3",
   "version": "3.11.11"
  }
 },
 "nbformat": 4,
 "nbformat_minor": 5
}
